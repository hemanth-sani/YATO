{
 "cells": [
  {
   "cell_type": "code",
   "execution_count": null,
   "id": "753f8995-180b-4d97-b024-46a3bf8439f5",
   "metadata": {},
   "outputs": [],
   "source": [
    "import googletrans\n",
    "from googletrans import Translator\n",
    "import swifter\n"
   ]
  },
  {
   "cell_type": "markdown",
   "id": "454eef52-d5e6-429e-acfe-46d678354bdb",
   "metadata": {},
   "source": [
    "##English dataset training."
   ]
  },
  {
   "cell_type": "code",
   "execution_count": 1,
   "id": "e0a576a6-3beb-4e94-b643-027f153415f6",
   "metadata": {},
   "outputs": [
    {
     "name": "stdout",
     "output_type": "stream",
     "text": [
      "MODEL: train\n",
      "++++++++++++++++++++++++++++++++++++++++++++++++++++++++++++++++++++++++++++++++++++++++++++++++++++\n",
      "Start Sentence Classification task...\n",
      "++++++++++++++++++++++++++++++++++++++++++++++++++++++++++++++++++++++++++++++++++++++++++++++++++++\n",
      "DATA SUMMARY START:\n",
      " I/O:\n",
      "     Train  file directory: /home/hsani/YATO/sample_data/clf.train.txt\n",
      "     Dev    file directory: /home/hsani/YATO/sample_data/clf.dev.txt\n",
      "     Test   file directory: /home/hsani/YATO/translate_dataset/clf.test.tamil.txt\n",
      "     Raw    file directory: None\n",
      "     Dset   file directory: /home/hsani/YATO/sample_data/bert_base_sample.dset\n",
      "     Model  file directory: /home/hsani/YATO/sample_data/\n",
      "     Loadmodel   directory: None\n",
      "     Decode file directory: None\n",
      "++++++++++++++++++++++++++++++++++++++++\n",
      "Data and Settings:\n",
      "     Tag          scheme: Not sequence labeling task\n",
      "     Split         token:  ||| \n",
      "     MAX SENTENCE LENGTH: 512\n",
      "     Number   normalized: False\n",
      "     Word         cutoff: 0\n",
      "     Train instance number: 4001\n",
      "     Dev   instance number: 201\n",
      "     Test  instance number: 201\n",
      "     Raw   instance number: 0\n",
      "     Word  alphabet size: 12921\n",
      "     Char  alphabet size: 112\n",
      "     Label alphabet size: 6\n",
      "     Label alphabet content: {'instance2index': {'4': 1, '1': 2, '2': 3, '3': 4, '0': 5}, 'instances': ['4', '1', '2', '3', '0']}\n",
      "     FEATURE num: 0\n",
      " ++++++++++++++++++++++++++++++++++++++++\n",
      " Model Network:\n",
      "     Model low level transformer: None; Finetune: False\n",
      "     Model high level transformer: bert-base-multilingual-uncased; Finetune: True\n",
      "     Words hidden 2 sent: Attention\n",
      "     Classification_Head: False; Classification_Head Activation: tahn\n",
      "     Classifier         dropout: 0.1\n",
      " ++++++++++++++++++++++++++++++++++++++++\n",
      " Training:\n",
      "     Optimizer: AdamW\n",
      "     Scheduler: get_cosine_schedule_with_warmup\n",
      "     warmup_step_rate: 0.050000\n",
      "     Iteration: 10\n",
      "     BatchSize: 16\n",
      "     Average  batch   loss: False\n",
      " ++++++++++++++++++++++++++++++++++++++++\n",
      " Hyperparameters:\n",
      "     Hyper              lr: 3e-05\n",
      "     Hyper        lr_decay: 0\n",
      "     Hyper         HP_clip: None\n",
      "     Hyper        momentum: 0\n",
      "     Hyper              l2: 1e-08\n",
      "     Hyper      hidden_dim: 768\n",
      "     Hyper         dropout: 0.3\n",
      "     Hyper             GPU: True\n",
      "     Hyper          device: cuda:0\n",
      "DATA SUMMARY END.\n",
      "++++++++++++++++++++++++++++++++++++++++++++++++++++++++++++++++++++++++++++++++++++++++++++++++++++\n"
     ]
    },
    {
     "name": "stderr",
     "output_type": "stream",
     "text": [
      "Training model...\n"
     ]
    },
    {
     "name": "stdout",
     "output_type": "stream",
     "text": [
      "build sentence classification network...\n",
      "use_char:  False\n",
      "word feature extractor:  LSTM\n",
      "build word representation...\n",
      "Loading transformer... model: bert-base-multilingual-uncased\n"
     ]
    },
    {
     "name": "stderr",
     "output_type": "stream",
     "text": [
      "We strongly recommend passing in an `attention_mask` since your input_ids may be padded. See https://huggingface.co/docs/transformers/troubleshooting#incorrect-output-when-padding-tokens-arent-masked.\n"
     ]
    },
    {
     "name": "stdout",
     "output_type": "stream",
     "text": [
      " ++++++++++++++++++++++++++++++++++++++++\n",
      "BertConfig {\n",
      "  \"_name_or_path\": \"bert-base-multilingual-uncased\",\n",
      "  \"architectures\": [\n",
      "    \"BertForMaskedLM\"\n",
      "  ],\n",
      "  \"attention_probs_dropout_prob\": 0.1,\n",
      "  \"classifier_dropout\": null,\n",
      "  \"directionality\": \"bidi\",\n",
      "  \"hidden_act\": \"gelu\",\n",
      "  \"hidden_dropout_prob\": 0.1,\n",
      "  \"hidden_size\": 768,\n",
      "  \"initializer_range\": 0.02,\n",
      "  \"intermediate_size\": 3072,\n",
      "  \"layer_norm_eps\": 1e-12,\n",
      "  \"max_position_embeddings\": 512,\n",
      "  \"model_type\": \"bert\",\n",
      "  \"num_attention_heads\": 12,\n",
      "  \"num_hidden_layers\": 12,\n",
      "  \"pad_token_id\": 0,\n",
      "  \"pooler_fc_size\": 768,\n",
      "  \"pooler_num_attention_heads\": 12,\n",
      "  \"pooler_num_fc_layers\": 3,\n",
      "  \"pooler_size_per_head\": 128,\n",
      "  \"pooler_type\": \"first_token_transform\",\n",
      "  \"position_embedding_type\": \"absolute\",\n",
      "  \"transformers_version\": \"4.39.2\",\n",
      "  \"type_vocab_size\": 2,\n",
      "  \"use_cache\": true,\n",
      "  \"vocab_size\": 105879\n",
      "}\n",
      "\n",
      " ++++++++++++++++++++++++++++++++++++++++\n",
      "Epoch: 0/10\n"
     ]
    },
    {
     "name": "stderr",
     "output_type": "stream",
     "text": [
      "     Instance: 2000; Time: 21.79s; loss: 191.5373;\n",
      "INFO:test:     Instance: 2000; Time: 21.79s; loss: 191.5373;\n",
      "     Instance: 4000; Time: 21.06s; loss: 173.6739;\n",
      "INFO:test:     Instance: 4000; Time: 21.06s; loss: 173.6739;\n",
      "100%|██████████| 13/13 [00:00<00:00, 17.73it/s]\n",
      "Dev: time: 0.74s speed: 273.45st/s; acc: 0.3682; f: 0.2759;\n",
      "INFO:test:Dev: time: 0.74s speed: 273.45st/s; acc: 0.3682; f: 0.2759;\n",
      "100%|██████████| 13/13 [00:01<00:00, 12.23it/s]\n",
      "/opt/sw/spack/apps/linux-rhel8-x86_64_v2/gcc-10.3.0/python-3.9.9-jh/lib/python3.9/site-packages/sklearn/metrics/_classification.py:1327: UndefinedMetricWarning: Precision is ill-defined and being set to 0.0 in labels with no predicted samples. Use `zero_division` parameter to control this behavior.\n",
      "  _warn_prf(average, modifier, msg_start, len(result))\n",
      "Save current best acc model in file:/home/hsani/YATO/sample_data/acc0.3632_p0.4260_r0.2854_f0.2409.pth\n",
      "INFO:test:Save current best acc model in file:/home/hsani/YATO/sample_data/acc0.3632_p0.4260_r0.2854_f0.2409.pth\n",
      "Save current best f model in file:/home/hsani/YATO/sample_data/acc0.3632_p0.4260_r0.2854_f0.2409.pth\n",
      "INFO:test:Save current best f model in file:/home/hsani/YATO/sample_data/acc0.3632_p0.4260_r0.2854_f0.2409.pth\n",
      "Test: time: 1.07s, speed: 188.92st/s; acc: 0.3632, p: 0.4260, r: 0.2854, f: 0.2409\n",
      "INFO:test:Test: time: 1.07s, speed: 188.92st/s; acc: 0.3632, p: 0.4260, r: 0.2854, f: 0.2409\n"
     ]
    },
    {
     "name": "stdout",
     "output_type": "stream",
     "text": [
      "Epoch: 1/10\n"
     ]
    },
    {
     "name": "stderr",
     "output_type": "stream",
     "text": [
      "     Instance: 2000; Time: 21.17s; loss: 148.6633;\n",
      "INFO:test:     Instance: 2000; Time: 21.17s; loss: 148.6633;\n",
      "     Instance: 4000; Time: 21.22s; loss: 142.6175;\n",
      "INFO:test:     Instance: 4000; Time: 21.22s; loss: 142.6175;\n",
      "100%|██████████| 13/13 [00:00<00:00, 18.94it/s]\n",
      "Dev: time: 0.69s speed: 292.32st/s; acc: 0.4179; f: 0.3840;\n",
      "INFO:test:Dev: time: 0.69s speed: 292.32st/s; acc: 0.4179; f: 0.3840;\n",
      "100%|██████████| 13/13 [00:01<00:00, 12.23it/s]\n",
      "/opt/sw/spack/apps/linux-rhel8-x86_64_v2/gcc-10.3.0/python-3.9.9-jh/lib/python3.9/site-packages/sklearn/metrics/_classification.py:1327: UndefinedMetricWarning: Precision is ill-defined and being set to 0.0 in labels with no predicted samples. Use `zero_division` parameter to control this behavior.\n",
      "  _warn_prf(average, modifier, msg_start, len(result))\n",
      "Save current best acc model in file:/home/hsani/YATO/sample_data/acc0.2935_p0.2229_r0.2379_f0.2134.pth\n",
      "INFO:test:Save current best acc model in file:/home/hsani/YATO/sample_data/acc0.2935_p0.2229_r0.2379_f0.2134.pth\n",
      "Save current best f model in file:/home/hsani/YATO/sample_data/acc0.2935_p0.2229_r0.2379_f0.2134.pth\n",
      "INFO:test:Save current best f model in file:/home/hsani/YATO/sample_data/acc0.2935_p0.2229_r0.2379_f0.2134.pth\n",
      "Test: time: 1.07s, speed: 188.84st/s; acc: 0.2935, p: 0.2229, r: 0.2379, f: 0.2134\n",
      "INFO:test:Test: time: 1.07s, speed: 188.84st/s; acc: 0.2935, p: 0.2229, r: 0.2379, f: 0.2134\n"
     ]
    },
    {
     "name": "stdout",
     "output_type": "stream",
     "text": [
      "Epoch: 2/10\n"
     ]
    },
    {
     "name": "stderr",
     "output_type": "stream",
     "text": [
      "     Instance: 2000; Time: 21.10s; loss: 113.9039;\n",
      "INFO:test:     Instance: 2000; Time: 21.10s; loss: 113.9039;\n",
      "     Instance: 4000; Time: 21.41s; loss: 112.6279;\n",
      "INFO:test:     Instance: 4000; Time: 21.41s; loss: 112.6279;\n",
      "100%|██████████| 13/13 [00:00<00:00, 18.94it/s]\n",
      "Dev: time: 0.69s speed: 292.05st/s; acc: 0.4776; f: 0.4736;\n",
      "INFO:test:Dev: time: 0.69s speed: 292.05st/s; acc: 0.4776; f: 0.4736;\n",
      "100%|██████████| 13/13 [00:01<00:00, 12.26it/s]\n",
      "/opt/sw/spack/apps/linux-rhel8-x86_64_v2/gcc-10.3.0/python-3.9.9-jh/lib/python3.9/site-packages/sklearn/metrics/_classification.py:1327: UndefinedMetricWarning: Precision is ill-defined and being set to 0.0 in labels with no predicted samples. Use `zero_division` parameter to control this behavior.\n",
      "  _warn_prf(average, modifier, msg_start, len(result))\n",
      "Save current best acc model in file:/home/hsani/YATO/sample_data/acc0.2985_p0.2831_r0.2579_f0.2234.pth\n",
      "INFO:test:Save current best acc model in file:/home/hsani/YATO/sample_data/acc0.2985_p0.2831_r0.2579_f0.2234.pth\n",
      "Save current best f model in file:/home/hsani/YATO/sample_data/acc0.2985_p0.2831_r0.2579_f0.2234.pth\n",
      "INFO:test:Save current best f model in file:/home/hsani/YATO/sample_data/acc0.2985_p0.2831_r0.2579_f0.2234.pth\n",
      "Test: time: 1.07s, speed: 189.34st/s; acc: 0.2985, p: 0.2831, r: 0.2579, f: 0.2234\n",
      "INFO:test:Test: time: 1.07s, speed: 189.34st/s; acc: 0.2985, p: 0.2831, r: 0.2579, f: 0.2234\n"
     ]
    },
    {
     "name": "stdout",
     "output_type": "stream",
     "text": [
      "Epoch: 3/10\n"
     ]
    },
    {
     "name": "stderr",
     "output_type": "stream",
     "text": [
      "     Instance: 2000; Time: 20.91s; loss: 83.1757;\n",
      "INFO:test:     Instance: 2000; Time: 20.91s; loss: 83.1757;\n",
      "     Instance: 4000; Time: 21.49s; loss: 82.9140;\n",
      "INFO:test:     Instance: 4000; Time: 21.49s; loss: 82.9140;\n",
      "100%|██████████| 13/13 [00:00<00:00, 18.97it/s]\n",
      "Dev: time: 0.69s speed: 292.64st/s; acc: 0.4677; f: 0.4763;\n",
      "INFO:test:Dev: time: 0.69s speed: 292.64st/s; acc: 0.4677; f: 0.4763;\n",
      "100%|██████████| 13/13 [00:01<00:00, 12.24it/s]\n",
      "Save current best f model in file:/home/hsani/YATO/sample_data/acc0.3134_p0.4725_r0.2863_f0.2397.pth\n",
      "INFO:test:Save current best f model in file:/home/hsani/YATO/sample_data/acc0.3134_p0.4725_r0.2863_f0.2397.pth\n",
      "Test: time: 1.07s, speed: 188.99st/s; acc: 0.3134, p: 0.4725, r: 0.2863, f: 0.2397\n",
      "INFO:test:Test: time: 1.07s, speed: 188.99st/s; acc: 0.3134, p: 0.4725, r: 0.2863, f: 0.2397\n"
     ]
    },
    {
     "name": "stdout",
     "output_type": "stream",
     "text": [
      "Epoch: 4/10\n"
     ]
    },
    {
     "name": "stderr",
     "output_type": "stream",
     "text": [
      "     Instance: 2000; Time: 21.08s; loss: 55.8699;\n",
      "INFO:test:     Instance: 2000; Time: 21.08s; loss: 55.8699;\n",
      "     Instance: 4000; Time: 21.38s; loss: 56.7583;\n",
      "INFO:test:     Instance: 4000; Time: 21.38s; loss: 56.7583;\n",
      "100%|██████████| 13/13 [00:00<00:00, 18.98it/s]\n",
      "Dev: time: 0.69s speed: 292.88st/s; acc: 0.4776; f: 0.4825;\n",
      "INFO:test:Dev: time: 0.69s speed: 292.88st/s; acc: 0.4776; f: 0.4825;\n",
      "100%|██████████| 13/13 [00:01<00:00, 12.26it/s]\n",
      "Save current best f model in file:/home/hsani/YATO/sample_data/acc0.3632_p0.4771_r0.3349_f0.3201.pth\n",
      "INFO:test:Save current best f model in file:/home/hsani/YATO/sample_data/acc0.3632_p0.4771_r0.3349_f0.3201.pth\n",
      "Test: time: 1.07s, speed: 189.25st/s; acc: 0.3632, p: 0.4771, r: 0.3349, f: 0.3201\n",
      "INFO:test:Test: time: 1.07s, speed: 189.25st/s; acc: 0.3632, p: 0.4771, r: 0.3349, f: 0.3201\n"
     ]
    },
    {
     "name": "stdout",
     "output_type": "stream",
     "text": [
      "Epoch: 5/10\n"
     ]
    },
    {
     "name": "stderr",
     "output_type": "stream",
     "text": [
      "     Instance: 2000; Time: 20.94s; loss: 40.5126;\n",
      "INFO:test:     Instance: 2000; Time: 20.94s; loss: 40.5126;\n",
      "     Instance: 4000; Time: 21.35s; loss: 39.6383;\n",
      "INFO:test:     Instance: 4000; Time: 21.35s; loss: 39.6383;\n",
      "100%|██████████| 13/13 [00:00<00:00, 19.02it/s]\n",
      "Dev: time: 0.69s speed: 293.54st/s; acc: 0.4677; f: 0.4292;\n",
      "INFO:test:Dev: time: 0.69s speed: 293.54st/s; acc: 0.4677; f: 0.4292;\n",
      "100%|██████████| 13/13 [00:01<00:00, 12.26it/s]\n",
      "/opt/sw/spack/apps/linux-rhel8-x86_64_v2/gcc-10.3.0/python-3.9.9-jh/lib/python3.9/site-packages/sklearn/metrics/_classification.py:1327: UndefinedMetricWarning: Precision is ill-defined and being set to 0.0 in labels with no predicted samples. Use `zero_division` parameter to control this behavior.\n",
      "  _warn_prf(average, modifier, msg_start, len(result))\n",
      "Test: time: 1.07s, speed: 189.44st/s; acc: 0.3134, p: 0.2548, r: 0.2708, f: 0.2297\n",
      "INFO:test:Test: time: 1.07s, speed: 189.44st/s; acc: 0.3134, p: 0.2548, r: 0.2708, f: 0.2297\n"
     ]
    },
    {
     "name": "stdout",
     "output_type": "stream",
     "text": [
      "Epoch: 6/10\n"
     ]
    },
    {
     "name": "stderr",
     "output_type": "stream",
     "text": [
      "     Instance: 2000; Time: 20.86s; loss: 18.9210;\n",
      "INFO:test:     Instance: 2000; Time: 20.86s; loss: 18.9210;\n",
      "     Instance: 4000; Time: 21.38s; loss: 22.7421;\n",
      "INFO:test:     Instance: 4000; Time: 21.38s; loss: 22.7421;\n",
      "100%|██████████| 13/13 [00:00<00:00, 18.95it/s]\n",
      "Dev: time: 0.69s speed: 292.59st/s; acc: 0.4677; f: 0.4725;\n",
      "INFO:test:Dev: time: 0.69s speed: 292.59st/s; acc: 0.4677; f: 0.4725;\n",
      "100%|██████████| 13/13 [00:01<00:00, 12.23it/s]\n",
      "Test: time: 1.07s, speed: 188.98st/s; acc: 0.3881, p: 0.5710, r: 0.3437, f: 0.3226\n",
      "INFO:test:Test: time: 1.07s, speed: 188.98st/s; acc: 0.3881, p: 0.5710, r: 0.3437, f: 0.3226\n"
     ]
    },
    {
     "name": "stdout",
     "output_type": "stream",
     "text": [
      "Epoch: 7/10\n"
     ]
    },
    {
     "name": "stderr",
     "output_type": "stream",
     "text": [
      "     Instance: 2000; Time: 21.02s; loss: 15.3774;\n",
      "INFO:test:     Instance: 2000; Time: 21.02s; loss: 15.3774;\n",
      "     Instance: 4000; Time: 21.05s; loss: 18.0410;\n",
      "INFO:test:     Instance: 4000; Time: 21.05s; loss: 18.0410;\n",
      "100%|██████████| 13/13 [00:00<00:00, 18.94it/s]\n",
      "Dev: time: 0.69s speed: 292.28st/s; acc: 0.5075; f: 0.5175;\n",
      "INFO:test:Dev: time: 0.69s speed: 292.28st/s; acc: 0.5075; f: 0.5175;\n",
      "100%|██████████| 13/13 [00:01<00:00, 12.27it/s]\n",
      "Save current best acc model in file:/home/hsani/YATO/sample_data/acc0.3284_p0.5017_r0.3244_f0.2922.pth\n",
      "INFO:test:Save current best acc model in file:/home/hsani/YATO/sample_data/acc0.3284_p0.5017_r0.3244_f0.2922.pth\n",
      "Save current best f model in file:/home/hsani/YATO/sample_data/acc0.3284_p0.5017_r0.3244_f0.2922.pth\n",
      "INFO:test:Save current best f model in file:/home/hsani/YATO/sample_data/acc0.3284_p0.5017_r0.3244_f0.2922.pth\n",
      "Test: time: 1.07s, speed: 189.45st/s; acc: 0.3284, p: 0.5017, r: 0.3244, f: 0.2922\n",
      "INFO:test:Test: time: 1.07s, speed: 189.45st/s; acc: 0.3284, p: 0.5017, r: 0.3244, f: 0.2922\n"
     ]
    },
    {
     "name": "stdout",
     "output_type": "stream",
     "text": [
      "Epoch: 8/10\n"
     ]
    },
    {
     "name": "stderr",
     "output_type": "stream",
     "text": [
      "     Instance: 2000; Time: 21.02s; loss: 10.0338;\n",
      "INFO:test:     Instance: 2000; Time: 21.02s; loss: 10.0338;\n",
      "     Instance: 4000; Time: 21.26s; loss: 13.5253;\n",
      "INFO:test:     Instance: 4000; Time: 21.26s; loss: 13.5253;\n",
      "100%|██████████| 13/13 [00:00<00:00, 18.90it/s]\n",
      "Dev: time: 0.69s speed: 291.74st/s; acc: 0.5025; f: 0.4811;\n",
      "INFO:test:Dev: time: 0.69s speed: 291.74st/s; acc: 0.5025; f: 0.4811;\n",
      "100%|██████████| 13/13 [00:01<00:00, 12.26it/s]\n",
      "/opt/sw/spack/apps/linux-rhel8-x86_64_v2/gcc-10.3.0/python-3.9.9-jh/lib/python3.9/site-packages/sklearn/metrics/_classification.py:1327: UndefinedMetricWarning: Precision is ill-defined and being set to 0.0 in labels with no predicted samples. Use `zero_division` parameter to control this behavior.\n",
      "  _warn_prf(average, modifier, msg_start, len(result))\n",
      "Test: time: 1.07s, speed: 189.40st/s; acc: 0.3433, p: 0.2761, r: 0.2986, f: 0.2687\n",
      "INFO:test:Test: time: 1.07s, speed: 189.40st/s; acc: 0.3433, p: 0.2761, r: 0.2986, f: 0.2687\n"
     ]
    },
    {
     "name": "stdout",
     "output_type": "stream",
     "text": [
      "Epoch: 9/10\n"
     ]
    },
    {
     "name": "stderr",
     "output_type": "stream",
     "text": [
      "     Instance: 2000; Time: 21.21s; loss: 12.9442;\n",
      "INFO:test:     Instance: 2000; Time: 21.21s; loss: 12.9442;\n",
      "     Instance: 4000; Time: 21.33s; loss: 14.3991;\n",
      "INFO:test:     Instance: 4000; Time: 21.33s; loss: 14.3991;\n",
      "100%|██████████| 13/13 [00:00<00:00, 16.29it/s]\n",
      "Dev: time: 0.80s speed: 251.39st/s; acc: 0.4527; f: 0.4120;\n",
      "INFO:test:Dev: time: 0.80s speed: 251.39st/s; acc: 0.4527; f: 0.4120;\n",
      "100%|██████████| 13/13 [00:01<00:00, 12.22it/s]\n",
      "/opt/sw/spack/apps/linux-rhel8-x86_64_v2/gcc-10.3.0/python-3.9.9-jh/lib/python3.9/site-packages/sklearn/metrics/_classification.py:1327: UndefinedMetricWarning: Precision is ill-defined and being set to 0.0 in labels with no predicted samples. Use `zero_division` parameter to control this behavior.\n",
      "  _warn_prf(average, modifier, msg_start, len(result))\n",
      "Test: time: 1.07s, speed: 188.77st/s; acc: 0.3483, p: 0.4690, r: 0.2965, f: 0.2449\n",
      "INFO:test:Test: time: 1.07s, speed: 188.77st/s; acc: 0.3483, p: 0.4690, r: 0.2965, f: 0.2449\n",
      "Best Test F1 Score: 0.292226503907383, Best Validation F1 Score: 0.517454348185015, Best Test F1 Score Epoch: 7 \n",
      "INFO:test:Best Test F1 Score: 0.292226503907383, Best Validation F1 Score: 0.517454348185015, Best Test F1 Score Epoch: 7 \n"
     ]
    }
   ],
   "source": [
    "\n",
    "from yato import YATO\n",
    "model = YATO('sample_data/demo.bert.config')#configuration file\n",
    "model.train()"
   ]
  },
  {
   "cell_type": "code",
   "execution_count": 3,
   "id": "ad62439a-a86c-4780-a4fa-dd4f90911ba8",
   "metadata": {},
   "outputs": [
    {
     "name": "stdout",
     "output_type": "stream",
     "text": [
      "MODEL: decode\n",
      "nbest: 0\n",
      "Load Model from file: /home/mkanche/YATO/sample_data/\n",
      "build sentence classification network...\n",
      "use_char:  False\n",
      "word feature extractor:  LSTM\n",
      "build word representation...\n",
      "Loading transformer... model: bert-base-multilingual-uncased\n",
      " ++++++++++++++++++++++++++++++++++++++++\n",
      "BertConfig {\n",
      "  \"_name_or_path\": \"bert-base-multilingual-uncased\",\n",
      "  \"architectures\": [\n",
      "    \"BertForMaskedLM\"\n",
      "  ],\n",
      "  \"attention_probs_dropout_prob\": 0.1,\n",
      "  \"classifier_dropout\": null,\n",
      "  \"directionality\": \"bidi\",\n",
      "  \"hidden_act\": \"gelu\",\n",
      "  \"hidden_dropout_prob\": 0.1,\n",
      "  \"hidden_size\": 768,\n",
      "  \"initializer_range\": 0.02,\n",
      "  \"intermediate_size\": 3072,\n",
      "  \"layer_norm_eps\": 1e-12,\n",
      "  \"max_position_embeddings\": 512,\n",
      "  \"model_type\": \"bert\",\n",
      "  \"num_attention_heads\": 12,\n",
      "  \"num_hidden_layers\": 12,\n",
      "  \"pad_token_id\": 0,\n",
      "  \"pooler_fc_size\": 768,\n",
      "  \"pooler_num_attention_heads\": 12,\n",
      "  \"pooler_num_fc_layers\": 3,\n",
      "  \"pooler_size_per_head\": 128,\n",
      "  \"pooler_type\": \"first_token_transform\",\n",
      "  \"position_embedding_type\": \"absolute\",\n",
      "  \"transformers_version\": \"4.36.2\",\n",
      "  \"type_vocab_size\": 2,\n",
      "  \"use_cache\": true,\n",
      "  \"vocab_size\": 105879\n",
      "}\n",
      "\n",
      " ++++++++++++++++++++++++++++++++++++++++\n",
      "Decode predict data, nbest: 0 ...\n"
     ]
    },
    {
     "name": "stderr",
     "output_type": "stream",
     "text": [
      "100%|██████████| 13/13 [00:00<00:00, 15.52it/s]"
     ]
    },
    {
     "name": "stdout",
     "output_type": "stream",
     "text": [
      "predict: time:0.85s, speed:239.38st/s; acc: 0.5920\n",
      "len(content_list) 201 201\n",
      "Predict predict result has been written into file. /home/mkanche/YATO/sample_data/Eng_french.clf.decode\n"
     ]
    },
    {
     "name": "stderr",
     "output_type": "stream",
     "text": [
      "\n"
     ]
    }
   ],
   "source": [
    "#eng_french\n",
    "from yato import YATO\n",
    "decode_model = YATO('sample_data/decode.config')#configuration file\n",
    "result_dict = decode_model.decode()"
   ]
  },
  {
   "cell_type": "code",
   "execution_count": 40,
   "id": "8c361fa8-e3cc-48cf-8b47-29b1d06a1467",
   "metadata": {},
   "outputs": [
    {
     "name": "stdout",
     "output_type": "stream",
     "text": [
      "MODEL: decode\n",
      "nbest: 0\n",
      "Load Model from file: /home/mkanche/YATO/sample_data/\n",
      "build sentence classification network...\n",
      "use_char:  False\n",
      "word feature extractor:  LSTM\n",
      "build word representation...\n",
      "Loading transformer... model: bert-base-multilingual-uncased\n",
      " ++++++++++++++++++++++++++++++++++++++++\n",
      "BertConfig {\n",
      "  \"_name_or_path\": \"bert-base-multilingual-uncased\",\n",
      "  \"architectures\": [\n",
      "    \"BertForMaskedLM\"\n",
      "  ],\n",
      "  \"attention_probs_dropout_prob\": 0.1,\n",
      "  \"classifier_dropout\": null,\n",
      "  \"directionality\": \"bidi\",\n",
      "  \"hidden_act\": \"gelu\",\n",
      "  \"hidden_dropout_prob\": 0.1,\n",
      "  \"hidden_size\": 768,\n",
      "  \"initializer_range\": 0.02,\n",
      "  \"intermediate_size\": 3072,\n",
      "  \"layer_norm_eps\": 1e-12,\n",
      "  \"max_position_embeddings\": 512,\n",
      "  \"model_type\": \"bert\",\n",
      "  \"num_attention_heads\": 12,\n",
      "  \"num_hidden_layers\": 12,\n",
      "  \"pad_token_id\": 0,\n",
      "  \"pooler_fc_size\": 768,\n",
      "  \"pooler_num_attention_heads\": 12,\n",
      "  \"pooler_num_fc_layers\": 3,\n",
      "  \"pooler_size_per_head\": 128,\n",
      "  \"pooler_type\": \"first_token_transform\",\n",
      "  \"position_embedding_type\": \"absolute\",\n",
      "  \"transformers_version\": \"4.36.2\",\n",
      "  \"type_vocab_size\": 2,\n",
      "  \"use_cache\": true,\n",
      "  \"vocab_size\": 105879\n",
      "}\n",
      "\n",
      " ++++++++++++++++++++++++++++++++++++++++\n",
      "Decode predict data, nbest: 0 ...\n"
     ]
    },
    {
     "name": "stderr",
     "output_type": "stream",
     "text": [
      "100%|██████████| 13/13 [00:01<00:00, 11.83it/s]"
     ]
    },
    {
     "name": "stdout",
     "output_type": "stream",
     "text": [
      "predict: time:1.11s, speed:182.70st/s; acc: 0.3085\n",
      "len(content_list) 201 201\n",
      "Predict predict result has been written into file. /home/mkanche/YATO/sample_data/Eng_french_tamil.clf.decode\n"
     ]
    },
    {
     "name": "stderr",
     "output_type": "stream",
     "text": [
      "\n",
      "/home/mkanche/.local/lib/python3.9/site-packages/sklearn/metrics/_classification.py:1471: UndefinedMetricWarning: Precision is ill-defined and being set to 0.0 in labels with no predicted samples. Use `zero_division` parameter to control this behavior.\n",
      "  _warn_prf(average, modifier, msg_start, len(result))\n"
     ]
    }
   ],
   "source": [
    "#Eng_french_tamil\n",
    "from yato import YATO\n",
    "decode_model = YATO('sample_data/decode.config')#configuration file\n",
    "result_dict = decode_model.decode()"
   ]
  },
  {
   "cell_type": "code",
   "execution_count": 2,
   "id": "6127c884-256e-4339-9bbd-1d7a2adda006",
   "metadata": {},
   "outputs": [
    {
     "name": "stdout",
     "output_type": "stream",
     "text": [
      "MODEL: train\n",
      "++++++++++++++++++++++++++++++++++++++++++++++++++++++++++++++++++++++++++++++++++++++++++++++++++++\n",
      "Start Sentence Classification task...\n",
      "++++++++++++++++++++++++++++++++++++++++++++++++++++++++++++++++++++++++++++++++++++++++++++++++++++\n",
      "DATA SUMMARY START:\n",
      " I/O:\n",
      "     Train  file directory: /home/mkanche/YATO/sample_data/clf.train.txt\n",
      "     Dev    file directory: /home/mkanche/YATO/sample_data/clf.dev.txt\n",
      "     Test   file directory: /home/mkanche/YATO/translate_dataset/clf.test.french.txt\n",
      "     Raw    file directory: None\n",
      "     Dset   file directory: /home/mkanche/YATO/sample_data/bert_base_sample.dset\n",
      "     Model  file directory: /home/mkanche/YATO/sample_data/\n",
      "     Loadmodel   directory: None\n",
      "     Decode file directory: None\n",
      "++++++++++++++++++++++++++++++++++++++++\n",
      "Data and Settings:\n",
      "     Tag          scheme: Not sequence labeling task\n",
      "     Split         token:  ||| \n",
      "     MAX SENTENCE LENGTH: 512\n",
      "     Number   normalized: False\n",
      "     Word         cutoff: 0\n",
      "     Train instance number: 4001\n",
      "     Dev   instance number: 201\n",
      "     Test  instance number: 201\n",
      "     Raw   instance number: 0\n",
      "     Word  alphabet size: 12747\n",
      "     Char  alphabet size: 98\n",
      "     Label alphabet size: 6\n",
      "     Label alphabet content: {'instance2index': {'4': 1, '1': 2, '2': 3, '3': 4, '0': 5}, 'instances': ['4', '1', '2', '3', '0']}\n",
      "     FEATURE num: 0\n",
      " ++++++++++++++++++++++++++++++++++++++++\n",
      " Model Network:\n",
      "     Model low level transformer: None; Finetune: False\n",
      "     Model high level transformer: bert-base-multilingual-uncased; Finetune: True\n",
      "     Words hidden 2 sent: Attention\n",
      "     Classification_Head: False; Classification_Head Activation: tahn\n",
      "     Classifier         dropout: 0.1\n",
      " ++++++++++++++++++++++++++++++++++++++++\n",
      " Training:\n",
      "     Optimizer: AdamW\n",
      "     Scheduler: get_cosine_schedule_with_warmup\n",
      "     warmup_step_rate: 0.050000\n",
      "     Iteration: 10\n",
      "     BatchSize: 16\n",
      "     Average  batch   loss: False\n",
      " ++++++++++++++++++++++++++++++++++++++++\n",
      " Hyperparameters:\n",
      "     Hyper              lr: 3e-05\n",
      "     Hyper        lr_decay: 0\n",
      "     Hyper         HP_clip: None\n",
      "     Hyper        momentum: 0\n",
      "     Hyper              l2: 1e-08\n",
      "     Hyper      hidden_dim: 768\n",
      "     Hyper         dropout: 0.3\n",
      "     Hyper             GPU: True\n",
      "     Hyper          device: cuda:0\n",
      "DATA SUMMARY END.\n",
      "++++++++++++++++++++++++++++++++++++++++++++++++++++++++++++++++++++++++++++++++++++++++++++++++++++\n"
     ]
    },
    {
     "name": "stderr",
     "output_type": "stream",
     "text": [
      "Training model...\n"
     ]
    },
    {
     "name": "stdout",
     "output_type": "stream",
     "text": [
      "build sentence classification network...\n",
      "use_char:  False\n",
      "word feature extractor:  LSTM\n",
      "build word representation...\n",
      "Loading transformer... model: bert-base-multilingual-uncased\n",
      " ++++++++++++++++++++++++++++++++++++++++\n",
      "BertConfig {\n",
      "  \"_name_or_path\": \"bert-base-multilingual-uncased\",\n",
      "  \"architectures\": [\n",
      "    \"BertForMaskedLM\"\n",
      "  ],\n",
      "  \"attention_probs_dropout_prob\": 0.1,\n",
      "  \"classifier_dropout\": null,\n",
      "  \"directionality\": \"bidi\",\n",
      "  \"hidden_act\": \"gelu\",\n",
      "  \"hidden_dropout_prob\": 0.1,\n",
      "  \"hidden_size\": 768,\n",
      "  \"initializer_range\": 0.02,\n",
      "  \"intermediate_size\": 3072,\n",
      "  \"layer_norm_eps\": 1e-12,\n",
      "  \"max_position_embeddings\": 512,\n",
      "  \"model_type\": \"bert\",\n",
      "  \"num_attention_heads\": 12,\n",
      "  \"num_hidden_layers\": 12,\n",
      "  \"pad_token_id\": 0,\n",
      "  \"pooler_fc_size\": 768,\n",
      "  \"pooler_num_attention_heads\": 12,\n",
      "  \"pooler_num_fc_layers\": 3,\n",
      "  \"pooler_size_per_head\": 128,\n",
      "  \"pooler_type\": \"first_token_transform\",\n",
      "  \"position_embedding_type\": \"absolute\",\n",
      "  \"transformers_version\": \"4.36.2\",\n",
      "  \"type_vocab_size\": 2,\n",
      "  \"use_cache\": true,\n",
      "  \"vocab_size\": 105879\n",
      "}\n",
      "\n",
      " ++++++++++++++++++++++++++++++++++++++++\n",
      "Epoch: 0/10\n"
     ]
    },
    {
     "name": "stderr",
     "output_type": "stream",
     "text": [
      "We strongly recommend passing in an `attention_mask` since your input_ids may be padded. See https://huggingface.co/docs/transformers/troubleshooting#incorrect-output-when-padding-tokens-arent-masked.\n",
      "     Instance: 2000; Time: 21.20s; loss: 191.2473;\n",
      "INFO:test:     Instance: 2000; Time: 21.20s; loss: 191.2473;\n",
      "     Instance: 4000; Time: 19.76s; loss: 173.2117;\n",
      "INFO:test:     Instance: 4000; Time: 19.76s; loss: 173.2117;\n",
      "100%|██████████| 13/13 [00:00<00:00, 17.78it/s]\n",
      "Dev: time: 0.76s speed: 273.93st/s; acc: 0.3682; f: 0.3048;\n",
      "INFO:test:Dev: time: 0.76s speed: 273.93st/s; acc: 0.3682; f: 0.3048;\n",
      "100%|██████████| 13/13 [00:00<00:00, 15.57it/s]\n",
      "Save current best acc model in file:/home/mkanche/YATO/sample_data/acc0.4030_p0.5055_r0.3402_f0.3434.pth\n",
      "INFO:test:Save current best acc model in file:/home/mkanche/YATO/sample_data/acc0.4030_p0.5055_r0.3402_f0.3434.pth\n",
      "Save current best f model in file:/home/mkanche/YATO/sample_data/acc0.4030_p0.5055_r0.3402_f0.3434.pth\n",
      "INFO:test:Save current best f model in file:/home/mkanche/YATO/sample_data/acc0.4030_p0.5055_r0.3402_f0.3434.pth\n",
      "Test: time: 0.85s, speed: 240.35st/s; acc: 0.4030, p: 0.5055, r: 0.3402, f: 0.3434\n",
      "INFO:test:Test: time: 0.85s, speed: 240.35st/s; acc: 0.4030, p: 0.5055, r: 0.3402, f: 0.3434\n"
     ]
    },
    {
     "name": "stdout",
     "output_type": "stream",
     "text": [
      "Epoch: 1/10\n"
     ]
    },
    {
     "name": "stderr",
     "output_type": "stream",
     "text": [
      "     Instance: 2000; Time: 19.94s; loss: 148.8863;\n",
      "INFO:test:     Instance: 2000; Time: 19.94s; loss: 148.8863;\n",
      "     Instance: 4000; Time: 19.96s; loss: 142.4197;\n",
      "INFO:test:     Instance: 4000; Time: 19.96s; loss: 142.4197;\n",
      "100%|██████████| 13/13 [00:00<00:00, 17.76it/s]\n",
      "Dev: time: 0.74s speed: 273.84st/s; acc: 0.4279; f: 0.3961;\n",
      "INFO:test:Dev: time: 0.74s speed: 273.84st/s; acc: 0.4279; f: 0.3961;\n",
      "100%|██████████| 13/13 [00:00<00:00, 15.59it/s]\n",
      "Save current best acc model in file:/home/mkanche/YATO/sample_data/acc0.4876_p0.6141_r0.4509_f0.4421.pth\n",
      "INFO:test:Save current best acc model in file:/home/mkanche/YATO/sample_data/acc0.4876_p0.6141_r0.4509_f0.4421.pth\n",
      "Save current best f model in file:/home/mkanche/YATO/sample_data/acc0.4876_p0.6141_r0.4509_f0.4421.pth\n",
      "INFO:test:Save current best f model in file:/home/mkanche/YATO/sample_data/acc0.4876_p0.6141_r0.4509_f0.4421.pth\n",
      "Test: time: 0.84s, speed: 240.65st/s; acc: 0.4876, p: 0.6141, r: 0.4509, f: 0.4421\n",
      "INFO:test:Test: time: 0.84s, speed: 240.65st/s; acc: 0.4876, p: 0.6141, r: 0.4509, f: 0.4421\n"
     ]
    },
    {
     "name": "stdout",
     "output_type": "stream",
     "text": [
      "Epoch: 2/10\n"
     ]
    },
    {
     "name": "stderr",
     "output_type": "stream",
     "text": [
      "     Instance: 2000; Time: 19.86s; loss: 114.7136;\n",
      "INFO:test:     Instance: 2000; Time: 19.86s; loss: 114.7136;\n",
      "     Instance: 4000; Time: 20.07s; loss: 114.1855;\n",
      "INFO:test:     Instance: 4000; Time: 20.07s; loss: 114.1855;\n",
      "100%|██████████| 13/13 [00:00<00:00, 17.78it/s]\n",
      "Dev: time: 0.74s speed: 274.30st/s; acc: 0.4826; f: 0.4719;\n",
      "INFO:test:Dev: time: 0.74s speed: 274.30st/s; acc: 0.4826; f: 0.4719;\n",
      "100%|██████████| 13/13 [00:00<00:00, 15.65it/s]\n",
      "Save current best acc model in file:/home/mkanche/YATO/sample_data/acc0.5771_p0.5997_r0.5262_f0.5434.pth\n",
      "INFO:test:Save current best acc model in file:/home/mkanche/YATO/sample_data/acc0.5771_p0.5997_r0.5262_f0.5434.pth\n",
      "Save current best f model in file:/home/mkanche/YATO/sample_data/acc0.5771_p0.5997_r0.5262_f0.5434.pth\n",
      "INFO:test:Save current best f model in file:/home/mkanche/YATO/sample_data/acc0.5771_p0.5997_r0.5262_f0.5434.pth\n",
      "Test: time: 0.84s, speed: 241.53st/s; acc: 0.5771, p: 0.5997, r: 0.5262, f: 0.5434\n",
      "INFO:test:Test: time: 0.84s, speed: 241.53st/s; acc: 0.5771, p: 0.5997, r: 0.5262, f: 0.5434\n"
     ]
    },
    {
     "name": "stdout",
     "output_type": "stream",
     "text": [
      "Epoch: 3/10\n"
     ]
    },
    {
     "name": "stderr",
     "output_type": "stream",
     "text": [
      "     Instance: 2000; Time: 19.65s; loss: 80.3986;\n",
      "INFO:test:     Instance: 2000; Time: 19.65s; loss: 80.3986;\n",
      "     Instance: 4000; Time: 20.24s; loss: 87.1588;\n",
      "INFO:test:     Instance: 4000; Time: 20.24s; loss: 87.1588;\n",
      "100%|██████████| 13/13 [00:00<00:00, 17.48it/s]\n",
      "Dev: time: 0.75s speed: 269.48st/s; acc: 0.4876; f: 0.4835;\n",
      "INFO:test:Dev: time: 0.75s speed: 269.48st/s; acc: 0.4876; f: 0.4835;\n",
      "100%|██████████| 13/13 [00:00<00:00, 15.62it/s]\n",
      "Save current best acc model in file:/home/mkanche/YATO/sample_data/acc0.5423_p0.5974_r0.5185_f0.5239.pth\n",
      "INFO:test:Save current best acc model in file:/home/mkanche/YATO/sample_data/acc0.5423_p0.5974_r0.5185_f0.5239.pth\n",
      "Save current best f model in file:/home/mkanche/YATO/sample_data/acc0.5423_p0.5974_r0.5185_f0.5239.pth\n",
      "INFO:test:Save current best f model in file:/home/mkanche/YATO/sample_data/acc0.5423_p0.5974_r0.5185_f0.5239.pth\n",
      "Test: time: 0.84s, speed: 241.14st/s; acc: 0.5423, p: 0.5974, r: 0.5185, f: 0.5239\n",
      "INFO:test:Test: time: 0.84s, speed: 241.14st/s; acc: 0.5423, p: 0.5974, r: 0.5185, f: 0.5239\n"
     ]
    },
    {
     "name": "stdout",
     "output_type": "stream",
     "text": [
      "Epoch: 4/10\n"
     ]
    },
    {
     "name": "stderr",
     "output_type": "stream",
     "text": [
      "     Instance: 2000; Time: 19.83s; loss: 55.3288;\n",
      "INFO:test:     Instance: 2000; Time: 19.83s; loss: 55.3288;\n",
      "     Instance: 4000; Time: 20.10s; loss: 57.8418;\n",
      "INFO:test:     Instance: 4000; Time: 20.10s; loss: 57.8418;\n",
      "100%|██████████| 13/13 [00:00<00:00, 17.79it/s]\n",
      "Dev: time: 0.74s speed: 274.43st/s; acc: 0.4179; f: 0.4280;\n",
      "INFO:test:Dev: time: 0.74s speed: 274.43st/s; acc: 0.4179; f: 0.4280;\n",
      "100%|██████████| 13/13 [00:00<00:00, 15.65it/s]\n",
      "Test: time: 0.84s, speed: 241.62st/s; acc: 0.5622, p: 0.5520, r: 0.5703, f: 0.5503\n",
      "INFO:test:Test: time: 0.84s, speed: 241.62st/s; acc: 0.5622, p: 0.5520, r: 0.5703, f: 0.5503\n"
     ]
    },
    {
     "name": "stdout",
     "output_type": "stream",
     "text": [
      "Epoch: 5/10\n"
     ]
    },
    {
     "name": "stderr",
     "output_type": "stream",
     "text": [
      "     Instance: 2000; Time: 19.68s; loss: 32.2821;\n",
      "INFO:test:     Instance: 2000; Time: 19.68s; loss: 32.2821;\n",
      "     Instance: 4000; Time: 20.05s; loss: 35.2541;\n",
      "INFO:test:     Instance: 4000; Time: 20.05s; loss: 35.2541;\n",
      "100%|██████████| 13/13 [00:00<00:00, 17.79it/s]\n",
      "Dev: time: 0.74s speed: 274.34st/s; acc: 0.4876; f: 0.4883;\n",
      "INFO:test:Dev: time: 0.74s speed: 274.34st/s; acc: 0.4876; f: 0.4883;\n",
      "100%|██████████| 13/13 [00:00<00:00, 15.63it/s]\n",
      "Save current best f model in file:/home/mkanche/YATO/sample_data/acc0.6119_p0.7026_r0.5723_f0.5953.pth\n",
      "INFO:test:Save current best f model in file:/home/mkanche/YATO/sample_data/acc0.6119_p0.7026_r0.5723_f0.5953.pth\n",
      "Test: time: 0.84s, speed: 241.30st/s; acc: 0.6119, p: 0.7026, r: 0.5723, f: 0.5953\n",
      "INFO:test:Test: time: 0.84s, speed: 241.30st/s; acc: 0.6119, p: 0.7026, r: 0.5723, f: 0.5953\n"
     ]
    },
    {
     "name": "stdout",
     "output_type": "stream",
     "text": [
      "Epoch: 6/10\n"
     ]
    },
    {
     "name": "stderr",
     "output_type": "stream",
     "text": [
      "     Instance: 2000; Time: 19.60s; loss: 23.8115;\n",
      "INFO:test:     Instance: 2000; Time: 19.60s; loss: 23.8115;\n",
      "     Instance: 4000; Time: 20.15s; loss: 22.0484;\n",
      "INFO:test:     Instance: 4000; Time: 20.15s; loss: 22.0484;\n",
      "100%|██████████| 13/13 [00:00<00:00, 17.78it/s]\n",
      "Dev: time: 0.74s speed: 274.22st/s; acc: 0.4577; f: 0.4673;\n",
      "INFO:test:Dev: time: 0.74s speed: 274.22st/s; acc: 0.4577; f: 0.4673;\n",
      "100%|██████████| 13/13 [00:00<00:00, 15.61it/s]\n",
      "Test: time: 0.84s, speed: 240.93st/s; acc: 0.5821, p: 0.6051, r: 0.5520, f: 0.5668\n",
      "INFO:test:Test: time: 0.84s, speed: 240.93st/s; acc: 0.5821, p: 0.6051, r: 0.5520, f: 0.5668\n"
     ]
    },
    {
     "name": "stdout",
     "output_type": "stream",
     "text": [
      "Epoch: 7/10\n"
     ]
    },
    {
     "name": "stderr",
     "output_type": "stream",
     "text": [
      "     Instance: 2000; Time: 19.78s; loss: 18.2158;\n",
      "INFO:test:     Instance: 2000; Time: 19.78s; loss: 18.2158;\n",
      "     Instance: 4000; Time: 19.79s; loss: 18.6661;\n",
      "INFO:test:     Instance: 4000; Time: 19.79s; loss: 18.6661;\n",
      "100%|██████████| 13/13 [00:00<00:00, 17.77it/s]\n",
      "Dev: time: 0.74s speed: 274.01st/s; acc: 0.4627; f: 0.4704;\n",
      "INFO:test:Dev: time: 0.74s speed: 274.01st/s; acc: 0.4627; f: 0.4704;\n",
      "100%|██████████| 13/13 [00:00<00:00, 15.47it/s]\n",
      "Test: time: 0.85s, speed: 238.73st/s; acc: 0.6119, p: 0.6343, r: 0.5715, f: 0.5794\n",
      "INFO:test:Test: time: 0.85s, speed: 238.73st/s; acc: 0.6119, p: 0.6343, r: 0.5715, f: 0.5794\n"
     ]
    },
    {
     "name": "stdout",
     "output_type": "stream",
     "text": [
      "Epoch: 8/10\n"
     ]
    },
    {
     "name": "stderr",
     "output_type": "stream",
     "text": [
      "     Instance: 2000; Time: 19.77s; loss: 8.8568;\n",
      "INFO:test:     Instance: 2000; Time: 19.77s; loss: 8.8568;\n",
      "     Instance: 4000; Time: 20.04s; loss: 13.0179;\n",
      "INFO:test:     Instance: 4000; Time: 20.04s; loss: 13.0179;\n",
      "100%|██████████| 13/13 [00:00<00:00, 17.80it/s]\n",
      "Dev: time: 0.74s speed: 274.52st/s; acc: 0.5124; f: 0.4754;\n",
      "INFO:test:Dev: time: 0.74s speed: 274.52st/s; acc: 0.5124; f: 0.4754;\n",
      "100%|██████████| 13/13 [00:00<00:00, 15.64it/s]\n",
      "Save current best acc model in file:/home/mkanche/YATO/sample_data/acc0.5920_p0.6660_r0.5539_f0.5664.pth\n",
      "INFO:test:Save current best acc model in file:/home/mkanche/YATO/sample_data/acc0.5920_p0.6660_r0.5539_f0.5664.pth\n",
      "Test: time: 0.84s, speed: 241.41st/s; acc: 0.5920, p: 0.6660, r: 0.5539, f: 0.5664\n",
      "INFO:test:Test: time: 0.84s, speed: 241.41st/s; acc: 0.5920, p: 0.6660, r: 0.5539, f: 0.5664\n"
     ]
    },
    {
     "name": "stdout",
     "output_type": "stream",
     "text": [
      "Epoch: 9/10\n"
     ]
    },
    {
     "name": "stderr",
     "output_type": "stream",
     "text": [
      "     Instance: 2000; Time: 20.00s; loss: 19.6346;\n",
      "INFO:test:     Instance: 2000; Time: 20.00s; loss: 19.6346;\n",
      "     Instance: 4000; Time: 19.88s; loss: 10.7307;\n",
      "INFO:test:     Instance: 4000; Time: 19.88s; loss: 10.7307;\n",
      "100%|██████████| 13/13 [00:00<00:00, 17.77it/s]\n",
      "Dev: time: 0.74s speed: 273.98st/s; acc: 0.4627; f: 0.4492;\n",
      "INFO:test:Dev: time: 0.74s speed: 273.98st/s; acc: 0.4627; f: 0.4492;\n",
      "100%|██████████| 13/13 [00:00<00:00, 15.58it/s]\n",
      "Test: time: 0.84s, speed: 240.41st/s; acc: 0.6318, p: 0.6590, r: 0.6112, f: 0.6265\n",
      "INFO:test:Test: time: 0.84s, speed: 240.41st/s; acc: 0.6318, p: 0.6590, r: 0.6112, f: 0.6265\n",
      "Best Test F1 Score: 0.5952668834247781, Best Validation F1 Score: 0.4882591101479572, Best Test F1 Score Epoch: 5 \n",
      "INFO:test:Best Test F1 Score: 0.5952668834247781, Best Validation F1 Score: 0.4882591101479572, Best Test F1 Score Epoch: 5 \n"
     ]
    }
   ],
   "source": [
    "from yato import YATO\n",
    "model = YATO('sample_data/demo.bert.config')#configuration file\n",
    "model.train()"
   ]
  },
  {
   "cell_type": "code",
   "execution_count": null,
   "id": "c4839cbc-5241-430c-9b59-f13bc79dcce4",
   "metadata": {},
   "outputs": [],
   "source": [
    "#translation\n",
    "def translate_text(text,target_language,source_language='en'):\n",
    "    translator = Translator()\n",
    "    return translator.translate(text, src=source_language, dest=target_language).text"
   ]
  },
  {
   "cell_type": "code",
   "execution_count": null,
   "id": "1b754f12-a793-4a25-bee7-f5be597d1046",
   "metadata": {},
   "outputs": [
    {
     "data": {
      "application/vnd.jupyter.widget-view+json": {
       "model_id": "2ce69cec1b3e4621a85b3d7bbf05af98",
       "version_major": 2,
       "version_minor": 0
      },
      "text/plain": [
       "Pandas Apply:   0%|          | 0/201 [00:00<?, ?it/s]"
      ]
     },
     "metadata": {},
     "output_type": "display_data"
    }
   ],
   "source": [
    "import pandas as pd\n",
    "import swifter\n",
    "\n",
    "\n",
    "df = pd.read_csv('sample_data/clf.dev.txt', delimiter=r'\\s*\\|\\|\\|\\s*', engine='python', header=None, names=['text', 'label'])\n",
    "df.head(10)\n",
    "\n",
    "df_tam=df.copy()\n",
    "df_tam['text'] = df_tam['text'].swifter.apply(lambda x: translate_text(x, 'ta'))\n",
    "df_tam['ln'] = 'eng_tam'\n",
    "df_tam.head(10)\n",
    "\n",
    "\n",
    "output_file_path = 'translate_dataset/clf.train.dev.txt'\n",
    "\n",
    "with open(output_file_path, 'w', encoding='utf-8') as file:\n",
    "    for index, row in df_tam.iterrows():\n",
    "        line = f\"{row['text']} ||| {row['label']}\\n\"\n",
    "        file.write(line)"
   ]
  },
  {
   "cell_type": "code",
   "execution_count": 32,
   "id": "103fdb6f-c399-42cb-b7e3-2dd43d219ea2",
   "metadata": {},
   "outputs": [
    {
     "data": {
      "application/vnd.jupyter.widget-view+json": {
       "model_id": "bdcec21f1842420d83148f4d31921f4a",
       "version_major": 2,
       "version_minor": 0
      },
      "text/plain": [
       "Pandas Apply:   0%|          | 0/201 [00:00<?, ?it/s]"
      ]
     },
     "metadata": {},
     "output_type": "display_data"
    }
   ],
   "source": [
    "import pandas as pd\n",
    "import swifter\n",
    "\n",
    "\n",
    "df = pd.read_csv('sample_data/clf.test.txt', delimiter=r'\\s*\\|\\|\\|\\s*', engine='python', header=None, names=['text', 'label'])\n",
    "df.head(10)\n",
    "\n",
    "df_tam=df.copy()\n",
    "df_tam['text'] = df_tam['text'].swifter.apply(lambda x: translate_text(x, 'ta'))\n",
    "df_tam['ln'] = 'eng_tam'\n",
    "df_tam.head(10)\n",
    "\n",
    "output_file_path = 'translate_dataset/clf.test.tamil.txt'\n",
    "\n",
    "with open(output_file_path, 'w', encoding='utf-8') as file:\n",
    "    for index, row in df_tam.iterrows():\n",
    "        line = f\"{row['text']} ||| {row['label']}\\n\"\n",
    "        file.write(line)"
   ]
  },
  {
   "cell_type": "code",
   "execution_count": 4,
   "id": "a0434c3b-8817-4f18-9c72-652f4f717721",
   "metadata": {},
   "outputs": [
    {
     "name": "stdout",
     "output_type": "stream",
     "text": [
      "MODEL: decode\n",
      "nbest: 0\n",
      "Load Model from file: translate_dataset/\n",
      "build sentence classification network...\n",
      "use_char:  False\n",
      "word feature extractor:  LSTM\n",
      "build word representation...\n",
      "Loading transformer... model: bert-base-multilingual-uncased\n",
      " ++++++++++++++++++++++++++++++++++++++++\n",
      "BertConfig {\n",
      "  \"_name_or_path\": \"bert-base-multilingual-uncased\",\n",
      "  \"architectures\": [\n",
      "    \"BertForMaskedLM\"\n",
      "  ],\n",
      "  \"attention_probs_dropout_prob\": 0.1,\n",
      "  \"classifier_dropout\": null,\n",
      "  \"directionality\": \"bidi\",\n",
      "  \"hidden_act\": \"gelu\",\n",
      "  \"hidden_dropout_prob\": 0.1,\n",
      "  \"hidden_size\": 768,\n",
      "  \"initializer_range\": 0.02,\n",
      "  \"intermediate_size\": 3072,\n",
      "  \"layer_norm_eps\": 1e-12,\n",
      "  \"max_position_embeddings\": 512,\n",
      "  \"model_type\": \"bert\",\n",
      "  \"num_attention_heads\": 12,\n",
      "  \"num_hidden_layers\": 12,\n",
      "  \"pad_token_id\": 0,\n",
      "  \"pooler_fc_size\": 768,\n",
      "  \"pooler_num_attention_heads\": 12,\n",
      "  \"pooler_num_fc_layers\": 3,\n",
      "  \"pooler_size_per_head\": 128,\n",
      "  \"pooler_type\": \"first_token_transform\",\n",
      "  \"position_embedding_type\": \"absolute\",\n",
      "  \"transformers_version\": \"4.39.2\",\n",
      "  \"type_vocab_size\": 2,\n",
      "  \"use_cache\": true,\n",
      "  \"vocab_size\": 105879\n",
      "}\n",
      "\n",
      " ++++++++++++++++++++++++++++++++++++++++\n",
      "Decode predict data, nbest: 0 ...\n"
     ]
    },
    {
     "name": "stderr",
     "output_type": "stream",
     "text": [
      "100%|██████████| 13/13 [00:01<00:00, 11.05it/s]\n"
     ]
    },
    {
     "name": "stdout",
     "output_type": "stream",
     "text": [
      "predict: time:1.18s, speed:170.60st/s; acc: 0.7313\n",
      "len(content_list) 201 201\n",
      "Predict predict result has been written into file. translate_dataset/test.clf.decode\n"
     ]
    }
   ],
   "source": [
    "from yato import YATO\n",
    "decode_model = YATO('translate_dataset/clf.decode.config')#configuration file\n",
    "result_dict = decode_model.decode()"
   ]
  },
  {
   "cell_type": "code",
   "execution_count": 13,
   "id": "e9c20662-c747-49d8-9114-5fce938c4327",
   "metadata": {},
   "outputs": [],
   "source": [
    "import matplotlib.pyplot as plt\n",
    "import seaborn as sns\n",
    "import numpy as np\n",
    "\n",
    "def visualize_attention(sent, attention, color='coolwarm'):\n",
    "    \"\"\"\n",
    "    Visualize attention weights in a Jupyter Notebook.\n",
    "    \n",
    "    Args:\n",
    "    sent (str): The sentence to display.\n",
    "    attention (list of float): Attention weights for each word in the sentence.\n",
    "    color (str): The colormap for the heatmap.\n",
    "    \"\"\"\n",
    "    words = sent.split()\n",
    "    attention = np.array(attention).reshape(1, -1)  # Reshape attention to 2D array for sns.heatmap\n",
    "    \n",
    "    plt.figure(figsize=(len(words), 1))  # Dynamic width to accommodate sentence length\n",
    "    sns.heatmap(attention, annot=True, cbar=False, cmap=color, xticklabels=words, yticklabels=False)\n",
    "    plt.xticks(rotation=45)\n",
    "    plt.show()"
   ]
  },
  {
   "cell_type": "code",
   "execution_count": 16,
   "id": "e191f589-5278-4350-9cbd-3e8c7d067b18",
   "metadata": {},
   "outputs": [
    {
     "name": "stdout",
     "output_type": "stream",
     "text": [
      "MODEL: Attention Weight\n",
      "build sentence classification network...\n",
      "use_char:  False\n",
      "word feature extractor:  LSTM\n",
      "build word representation...\n",
      "Loading transformer... model: bert-base-multilingual-uncased\n",
      " ++++++++++++++++++++++++++++++++++++++++\n",
      "BertConfig {\n",
      "  \"_name_or_path\": \"bert-base-multilingual-uncased\",\n",
      "  \"architectures\": [\n",
      "    \"BertForMaskedLM\"\n",
      "  ],\n",
      "  \"attention_probs_dropout_prob\": 0.1,\n",
      "  \"classifier_dropout\": null,\n",
      "  \"directionality\": \"bidi\",\n",
      "  \"hidden_act\": \"gelu\",\n",
      "  \"hidden_dropout_prob\": 0.1,\n",
      "  \"hidden_size\": 768,\n",
      "  \"initializer_range\": 0.02,\n",
      "  \"intermediate_size\": 3072,\n",
      "  \"layer_norm_eps\": 1e-12,\n",
      "  \"max_position_embeddings\": 512,\n",
      "  \"model_type\": \"bert\",\n",
      "  \"num_attention_heads\": 12,\n",
      "  \"num_hidden_layers\": 12,\n",
      "  \"pad_token_id\": 0,\n",
      "  \"pooler_fc_size\": 768,\n",
      "  \"pooler_num_attention_heads\": 12,\n",
      "  \"pooler_num_fc_layers\": 3,\n",
      "  \"pooler_size_per_head\": 128,\n",
      "  \"pooler_type\": \"first_token_transform\",\n",
      "  \"position_embedding_type\": \"absolute\",\n",
      "  \"transformers_version\": \"4.39.2\",\n",
      "  \"type_vocab_size\": 2,\n",
      "  \"use_cache\": true,\n",
      "  \"vocab_size\": 105879\n",
      "}\n",
      "\n",
      " ++++++++++++++++++++++++++++++++++++++++\n"
     ]
    },
    {
     "name": "stderr",
     "output_type": "stream",
     "text": [
      "100%|██████████| 1/1 [00:00<00:00, 78.67it/s]"
     ]
    },
    {
     "name": "stdout",
     "output_type": "stream",
     "text": [
      "[array([[0.        , 0.13706172, 0.38711315, 0.10964736, 0.22965835,\n",
      "        0.13651939]], dtype=float32)]\n"
     ]
    },
    {
     "name": "stderr",
     "output_type": "stream",
     "text": [
      "\n"
     ]
    }
   ],
   "source": [
    "from yato import YATO\n",
    "from utils import text_attention\n",
    "model = YATO('translate_dataset/clf.decode.config')\n",
    "\n",
    "sample = [\"ஒரு பை-தி-புத்தகங்கள் தற்செயலான மற்றும் வேண்டுமென்றே நகைச்சுவையை தெளிப்பதன் மூலம் காதல் மற்றும் செயலின் கலவையாகும். ||| 1\"]\n",
    "probsutils, weights_ls = model.attention(input_text=sample)\n",
    "print(probsutils)\n",
    "sentece = \"ஒரு பை-தி-புத்தகங்கள் தற்செயலான மற்றும் வேண்டுமென்றே நகைச்சுவையை தெளிப்பதன் மூலம் காதல் மற்றும் செயலின் கும்வையாகும்.\"\n",
    "atten = weights_ls[0].tolist()\n",
    "\n",
    "\n",
    "text_attention.visualization(sentece, atten[0], tex = 'sample_tamil.tex', color='red')\n",
    "\n",
    "#visualize_attention(sentece, atten[0])"
   ]
  },
  {
   "cell_type": "code",
   "execution_count": 23,
   "id": "16840344-06cf-4881-a522-458390a651df",
   "metadata": {},
   "outputs": [
    {
     "data": {
      "text/html": [
       "<div>\n",
       "<style scoped>\n",
       "    .dataframe tbody tr th:only-of-type {\n",
       "        vertical-align: middle;\n",
       "    }\n",
       "\n",
       "    .dataframe tbody tr th {\n",
       "        vertical-align: top;\n",
       "    }\n",
       "\n",
       "    .dataframe thead th {\n",
       "        text-align: right;\n",
       "    }\n",
       "</style>\n",
       "<table border=\"1\" class=\"dataframe\">\n",
       "  <thead>\n",
       "    <tr style=\"text-align: right;\">\n",
       "      <th></th>\n",
       "      <th>text</th>\n",
       "      <th>label</th>\n",
       "    </tr>\n",
       "  </thead>\n",
       "  <tbody>\n",
       "    <tr>\n",
       "      <th>0</th>\n",
       "      <td>a stirring , funny and finally transporting re...</td>\n",
       "      <td>4</td>\n",
       "    </tr>\n",
       "    <tr>\n",
       "      <th>1</th>\n",
       "      <td>apparently reassembled from the cutting-room f...</td>\n",
       "      <td>1</td>\n",
       "    </tr>\n",
       "    <tr>\n",
       "      <th>2</th>\n",
       "      <td>they presume their audience wo n't sit still f...</td>\n",
       "      <td>1</td>\n",
       "    </tr>\n",
       "    <tr>\n",
       "      <th>3</th>\n",
       "      <td>the entire movie is filled with deja vu moments .</td>\n",
       "      <td>2</td>\n",
       "    </tr>\n",
       "    <tr>\n",
       "      <th>4</th>\n",
       "      <td>this is a visually stunning rumination on love...</td>\n",
       "      <td>3</td>\n",
       "    </tr>\n",
       "    <tr>\n",
       "      <th>5</th>\n",
       "      <td>um , no. .</td>\n",
       "      <td>2</td>\n",
       "    </tr>\n",
       "    <tr>\n",
       "      <th>6</th>\n",
       "      <td>jonathan parker 's bartleby should have been t...</td>\n",
       "      <td>3</td>\n",
       "    </tr>\n",
       "    <tr>\n",
       "      <th>7</th>\n",
       "      <td>campanella gets the tone just right -- funny i...</td>\n",
       "      <td>3</td>\n",
       "    </tr>\n",
       "    <tr>\n",
       "      <th>8</th>\n",
       "      <td>a fan film that for the uninitiated plays bett...</td>\n",
       "      <td>1</td>\n",
       "    </tr>\n",
       "    <tr>\n",
       "      <th>9</th>\n",
       "      <td>béart and berling are both superb , while hupp...</td>\n",
       "      <td>4</td>\n",
       "    </tr>\n",
       "  </tbody>\n",
       "</table>\n",
       "</div>"
      ],
      "text/plain": [
       "                                                text  label\n",
       "0  a stirring , funny and finally transporting re...      4\n",
       "1  apparently reassembled from the cutting-room f...      1\n",
       "2  they presume their audience wo n't sit still f...      1\n",
       "3  the entire movie is filled with deja vu moments .      2\n",
       "4  this is a visually stunning rumination on love...      3\n",
       "5                                         um , no. .      2\n",
       "6  jonathan parker 's bartleby should have been t...      3\n",
       "7  campanella gets the tone just right -- funny i...      3\n",
       "8  a fan film that for the uninitiated plays bett...      1\n",
       "9  béart and berling are both superb , while hupp...      4"
      ]
     },
     "execution_count": 23,
     "metadata": {},
     "output_type": "execute_result"
    }
   ],
   "source": [
    "df = pd.read_csv('sample_data/test.clf.decode', delimiter=r'\\s*\\|\\|\\|\\s*', engine='python', header=None, names=['text', 'label'])\n",
    "df.head(10)"
   ]
  },
  {
   "cell_type": "code",
   "execution_count": 5,
   "id": "67571694-13d4-4046-8723-dd9bf2fb5489",
   "metadata": {},
   "outputs": [
    {
     "data": {
      "text/html": [
       "<div>\n",
       "<style scoped>\n",
       "    .dataframe tbody tr th:only-of-type {\n",
       "        vertical-align: middle;\n",
       "    }\n",
       "\n",
       "    .dataframe tbody tr th {\n",
       "        vertical-align: top;\n",
       "    }\n",
       "\n",
       "    .dataframe thead th {\n",
       "        text-align: right;\n",
       "    }\n",
       "</style>\n",
       "<table border=\"1\" class=\"dataframe\">\n",
       "  <thead>\n",
       "    <tr style=\"text-align: right;\">\n",
       "      <th></th>\n",
       "      <th>text</th>\n",
       "      <th>label</th>\n",
       "    </tr>\n",
       "  </thead>\n",
       "  <tbody>\n",
       "    <tr>\n",
       "      <th>0</th>\n",
       "      <td>une réimagination émouvante, drôle et finaleme...</td>\n",
       "      <td>1</td>\n",
       "    </tr>\n",
       "    <tr>\n",
       "      <th>1</th>\n",
       "      <td>apparemment réassemblé à partir du plancher de...</td>\n",
       "      <td>1</td>\n",
       "    </tr>\n",
       "    <tr>\n",
       "      <th>2</th>\n",
       "      <td>ils supposent que leur public ne restera pas a...</td>\n",
       "      <td>1</td>\n",
       "    </tr>\n",
       "    <tr>\n",
       "      <th>3</th>\n",
       "      <td>tout le film est rempli de moments de déjà-vu.</td>\n",
       "      <td>1</td>\n",
       "    </tr>\n",
       "    <tr>\n",
       "      <th>4</th>\n",
       "      <td>c'est une réflexion visuellement époustouflant...</td>\n",
       "      <td>3</td>\n",
       "    </tr>\n",
       "    <tr>\n",
       "      <th>5</th>\n",
       "      <td>um non. .</td>\n",
       "      <td>2</td>\n",
       "    </tr>\n",
       "    <tr>\n",
       "      <th>6</th>\n",
       "      <td>Bartleby de Jonathan Parker aurait dû être le ...</td>\n",
       "      <td>1</td>\n",
       "    </tr>\n",
       "    <tr>\n",
       "      <th>7</th>\n",
       "      <td>campanella donne le ton juste -- drôle au mili...</td>\n",
       "      <td>3</td>\n",
       "    </tr>\n",
       "    <tr>\n",
       "      <th>8</th>\n",
       "      <td>un fan film qui, pour les non-initiés, se joue...</td>\n",
       "      <td>1</td>\n",
       "    </tr>\n",
       "    <tr>\n",
       "      <th>9</th>\n",
       "      <td>béart et berling sont superbes tous les deux ,...</td>\n",
       "      <td>4</td>\n",
       "    </tr>\n",
       "  </tbody>\n",
       "</table>\n",
       "</div>"
      ],
      "text/plain": [
       "                                                text  label\n",
       "0  une réimagination émouvante, drôle et finaleme...      1\n",
       "1  apparemment réassemblé à partir du plancher de...      1\n",
       "2  ils supposent que leur public ne restera pas a...      1\n",
       "3     tout le film est rempli de moments de déjà-vu.      1\n",
       "4  c'est une réflexion visuellement époustouflant...      3\n",
       "5                                          um non. .      2\n",
       "6  Bartleby de Jonathan Parker aurait dû être le ...      1\n",
       "7  campanella donne le ton juste -- drôle au mili...      3\n",
       "8  un fan film qui, pour les non-initiés, se joue...      1\n",
       "9  béart et berling sont superbes tous les deux ,...      4"
      ]
     },
     "execution_count": 5,
     "metadata": {},
     "output_type": "execute_result"
    }
   ],
   "source": [
    "import pandas as pd\n",
    "\n",
    "df = pd.read_csv('sample_data/Eng_french.clf.decode', delimiter=r'\\s*\\|\\|\\|\\s*', engine='python', header=None, names=['text', 'label'])\n",
    "df.head(10)"
   ]
  },
  {
   "cell_type": "code",
   "execution_count": 24,
   "id": "9324443c-6edc-47f0-9c2b-54f49c93ec39",
   "metadata": {},
   "outputs": [
    {
     "data": {
      "text/html": [
       "<div>\n",
       "<style scoped>\n",
       "    .dataframe tbody tr th:only-of-type {\n",
       "        vertical-align: middle;\n",
       "    }\n",
       "\n",
       "    .dataframe tbody tr th {\n",
       "        vertical-align: top;\n",
       "    }\n",
       "\n",
       "    .dataframe thead th {\n",
       "        text-align: right;\n",
       "    }\n",
       "</style>\n",
       "<table border=\"1\" class=\"dataframe\">\n",
       "  <thead>\n",
       "    <tr style=\"text-align: right;\">\n",
       "      <th></th>\n",
       "      <th>text</th>\n",
       "      <th>label</th>\n",
       "    </tr>\n",
       "  </thead>\n",
       "  <tbody>\n",
       "    <tr>\n",
       "      <th>0</th>\n",
       "      <td>ஒரு கிளர்ச்சியூட்டும், வேடிக்கையான மற்றும் இறு...</td>\n",
       "      <td>4</td>\n",
       "    </tr>\n",
       "    <tr>\n",
       "      <th>1</th>\n",
       "      <td>கொடுக்கப்பட்ட பகல்நேர சோப்பின் வெட்டு-அறை தளத்...</td>\n",
       "      <td>1</td>\n",
       "    </tr>\n",
       "    <tr>\n",
       "      <th>2</th>\n",
       "      <td>அவர்களின் பார்வையாளர்கள் சமூகவியல் பாடத்திற்கு...</td>\n",
       "      <td>3</td>\n",
       "    </tr>\n",
       "    <tr>\n",
       "      <th>3</th>\n",
       "      <td>முழு திரைப்படமும் தேஜா வு தருணங்களால் நிரம்பிய...</td>\n",
       "      <td>2</td>\n",
       "    </tr>\n",
       "    <tr>\n",
       "      <th>4</th>\n",
       "      <td>இது காதல், நினைவாற்றல், வரலாறு மற்றும் கலைக்கு...</td>\n",
       "      <td>3</td>\n",
       "    </tr>\n",
       "    <tr>\n",
       "      <th>5</th>\n",
       "      <td>ஆம், இல்லை. .</td>\n",
       "      <td>2</td>\n",
       "    </tr>\n",
       "    <tr>\n",
       "      <th>6</th>\n",
       "      <td>ஜொனாதன் பார்க்கரின் பார்டில்பை நவீன-அலுவலக அனோ...</td>\n",
       "      <td>1</td>\n",
       "    </tr>\n",
       "    <tr>\n",
       "      <th>7</th>\n",
       "      <td>காம்பானெல்லா தொனியை சரியாகப் பெறுகிறார் -- நம்...</td>\n",
       "      <td>3</td>\n",
       "    </tr>\n",
       "    <tr>\n",
       "      <th>8</th>\n",
       "      <td>ஒரு ரசிகரின் திரைப்படம், அறிமுகமில்லாதவர்களுக்...</td>\n",
       "      <td>1</td>\n",
       "    </tr>\n",
       "    <tr>\n",
       "      <th>9</th>\n",
       "      <td>பியர்ட் மற்றும் பெர்லிங் இரண்டும் அருமை, அதே ச...</td>\n",
       "      <td>4</td>\n",
       "    </tr>\n",
       "  </tbody>\n",
       "</table>\n",
       "</div>"
      ],
      "text/plain": [
       "                                                text  label\n",
       "0  ஒரு கிளர்ச்சியூட்டும், வேடிக்கையான மற்றும் இறு...      4\n",
       "1  கொடுக்கப்பட்ட பகல்நேர சோப்பின் வெட்டு-அறை தளத்...      1\n",
       "2  அவர்களின் பார்வையாளர்கள் சமூகவியல் பாடத்திற்கு...      3\n",
       "3  முழு திரைப்படமும் தேஜா வு தருணங்களால் நிரம்பிய...      2\n",
       "4  இது காதல், நினைவாற்றல், வரலாறு மற்றும் கலைக்கு...      3\n",
       "5                                      ஆம், இல்லை. .      2\n",
       "6  ஜொனாதன் பார்க்கரின் பார்டில்பை நவீன-அலுவலக அனோ...      1\n",
       "7  காம்பானெல்லா தொனியை சரியாகப் பெறுகிறார் -- நம்...      3\n",
       "8  ஒரு ரசிகரின் திரைப்படம், அறிமுகமில்லாதவர்களுக்...      1\n",
       "9  பியர்ட் மற்றும் பெர்லிங் இரண்டும் அருமை, அதே ச...      4"
      ]
     },
     "execution_count": 24,
     "metadata": {},
     "output_type": "execute_result"
    }
   ],
   "source": [
    "df_tam = pd.read_csv('translate_dataset/test.clf.decode', delimiter=r'\\s*\\|\\|\\|\\s*', engine='python', header=None, names=['text', 'label'])\n",
    "df_tam.head(10)"
   ]
  },
  {
   "cell_type": "code",
   "execution_count": 7,
   "id": "cd43bd0d-697f-43c2-a4df-8b46fb3badc2",
   "metadata": {},
   "outputs": [
    {
     "data": {
      "text/html": [
       "<div>\n",
       "<style scoped>\n",
       "    .dataframe tbody tr th:only-of-type {\n",
       "        vertical-align: middle;\n",
       "    }\n",
       "\n",
       "    .dataframe tbody tr th {\n",
       "        vertical-align: top;\n",
       "    }\n",
       "\n",
       "    .dataframe thead th {\n",
       "        text-align: right;\n",
       "    }\n",
       "</style>\n",
       "<table border=\"1\" class=\"dataframe\">\n",
       "  <thead>\n",
       "    <tr style=\"text-align: right;\">\n",
       "      <th></th>\n",
       "      <th>text</th>\n",
       "      <th>label</th>\n",
       "    </tr>\n",
       "  </thead>\n",
       "  <tbody>\n",
       "    <tr>\n",
       "      <th>0</th>\n",
       "      <td>ஒரு கிளர்ச்சியூட்டும், வேடிக்கையான மற்றும் இறு...</td>\n",
       "      <td>1</td>\n",
       "    </tr>\n",
       "    <tr>\n",
       "      <th>1</th>\n",
       "      <td>கொடுக்கப்பட்ட பகல்நேர சோப்பின் வெட்டு-அறை தளத்...</td>\n",
       "      <td>1</td>\n",
       "    </tr>\n",
       "    <tr>\n",
       "      <th>2</th>\n",
       "      <td>அவர்களின் பார்வையாளர்கள் சமூகவியல் பாடத்திற்கு...</td>\n",
       "      <td>3</td>\n",
       "    </tr>\n",
       "    <tr>\n",
       "      <th>3</th>\n",
       "      <td>முழு திரைப்படமும் தேஜா வு தருணங்களால் நிரம்பிய...</td>\n",
       "      <td>1</td>\n",
       "    </tr>\n",
       "    <tr>\n",
       "      <th>4</th>\n",
       "      <td>இது காதல், நினைவாற்றல், வரலாறு மற்றும் கலைக்கு...</td>\n",
       "      <td>1</td>\n",
       "    </tr>\n",
       "    <tr>\n",
       "      <th>5</th>\n",
       "      <td>ஆம், இல்லை. .</td>\n",
       "      <td>2</td>\n",
       "    </tr>\n",
       "    <tr>\n",
       "      <th>6</th>\n",
       "      <td>ஜொனாதன் பார்க்கரின் பார்டில்பை நவீன-அலுவலக அனோ...</td>\n",
       "      <td>1</td>\n",
       "    </tr>\n",
       "    <tr>\n",
       "      <th>7</th>\n",
       "      <td>காம்பானெல்லா தொனியை சரியாகப் பெறுகிறார் -- நம்...</td>\n",
       "      <td>2</td>\n",
       "    </tr>\n",
       "    <tr>\n",
       "      <th>8</th>\n",
       "      <td>ஒரு ரசிகரின் திரைப்படம், அறிமுகமில்லாதவர்களுக்...</td>\n",
       "      <td>3</td>\n",
       "    </tr>\n",
       "    <tr>\n",
       "      <th>9</th>\n",
       "      <td>பியர்ட் மற்றும் பெர்லிங் இரண்டும் அருமை, அதே ச...</td>\n",
       "      <td>1</td>\n",
       "    </tr>\n",
       "  </tbody>\n",
       "</table>\n",
       "</div>"
      ],
      "text/plain": [
       "                                                text  label\n",
       "0  ஒரு கிளர்ச்சியூட்டும், வேடிக்கையான மற்றும் இறு...      1\n",
       "1  கொடுக்கப்பட்ட பகல்நேர சோப்பின் வெட்டு-அறை தளத்...      1\n",
       "2  அவர்களின் பார்வையாளர்கள் சமூகவியல் பாடத்திற்கு...      3\n",
       "3  முழு திரைப்படமும் தேஜா வு தருணங்களால் நிரம்பிய...      1\n",
       "4  இது காதல், நினைவாற்றல், வரலாறு மற்றும் கலைக்கு...      1\n",
       "5                                      ஆம், இல்லை. .      2\n",
       "6  ஜொனாதன் பார்க்கரின் பார்டில்பை நவீன-அலுவலக அனோ...      1\n",
       "7  காம்பானெல்லா தொனியை சரியாகப் பெறுகிறார் -- நம்...      2\n",
       "8  ஒரு ரசிகரின் திரைப்படம், அறிமுகமில்லாதவர்களுக்...      3\n",
       "9  பியர்ட் மற்றும் பெர்லிங் இரண்டும் அருமை, அதே ச...      1"
      ]
     },
     "execution_count": 7,
     "metadata": {},
     "output_type": "execute_result"
    }
   ],
   "source": [
    "df_tam = pd.read_csv('sample_data/Eng_french_tamil.clf.decode', delimiter=r'\\s*\\|\\|\\|\\s*', engine='python', header=None, names=['text', 'label'])\n",
    "df_tam.head(10)"
   ]
  },
  {
   "cell_type": "code",
   "execution_count": 29,
   "id": "8f3f7c39-f583-4b06-9fc5-4da06adfafd9",
   "metadata": {},
   "outputs": [
    {
     "data": {
      "application/vnd.jupyter.widget-view+json": {
       "model_id": "044204888ed34751b6b39ac6dd87918f",
       "version_major": 2,
       "version_minor": 0
      },
      "text/plain": [
       "Pandas Apply:   0%|          | 0/4001 [00:00<?, ?it/s]"
      ]
     },
     "metadata": {},
     "output_type": "display_data"
    },
    {
     "name": "stdout",
     "output_type": "stream",
     "text": [
      "                                                text  label      ln\n",
      "0  une réimagination émouvante, drôle et finaleme...      4  eng_fr\n",
      "1  apparemment réassemblé à partir du plancher de...      1  eng_fr\n",
      "2  ils supposent que leur public ne restera pas a...      1  eng_fr\n",
      "3     tout le film est rempli de moments de déjà-vu.      2  eng_fr\n",
      "4  c'est une réflexion visuellement époustouflant...      3  eng_fr\n",
      "5                                          um non. .      2  eng_fr\n",
      "6  Bartleby de Jonathan Parker aurait dû être le ...      3  eng_fr\n",
      "7  campanella donne le ton juste -- drôle au mili...      3  eng_fr\n",
      "8  un fan film qui, pour les non-initiés, se joue...      1  eng_fr\n",
      "9  béart et berling sont superbes tous les deux ,...      4  eng_fr\n"
     ]
    }
   ],
   "source": [
    "import pandas as pd\n",
    "import swifter\n",
    "\n",
    "df = pd.read_csv('sample_data/clf.train.txt', delimiter=r'\\s*\\|\\|\\|\\s*', engine='python', header=None, names=['text', 'label'])\n",
    "\n",
    "df_fr = df.copy()\n",
    "\n",
    "df_fr['text'] = df_fr['text'].swifter.apply(lambda x: translate_text(x, 'fr'))\n",
    "df_fr['ln'] = 'eng_fr'\n",
    "\n",
    "print(df_fr.head(10))\n",
    "\n",
    "output_file_path = 'translate_dataset/clf.train.french.txt'\n",
    "\n",
    "with open(output_file_path, 'w', encoding='utf-8') as file:\n",
    "    for index, row in df_fr.iterrows():\n",
    "        line = f\"{row['text']} ||| {row['label']}\\n\"\n",
    "        file.write(line)\n"
   ]
  },
  {
   "cell_type": "code",
   "execution_count": 3,
   "id": "d988c215-a6b3-46a1-bf96-cf6488bdc741",
   "metadata": {},
   "outputs": [
    {
     "data": {
      "application/vnd.jupyter.widget-view+json": {
       "model_id": "5a79e970d5624474ac3f3a364ad4771c",
       "version_major": 2,
       "version_minor": 0
      },
      "text/plain": [
       "Pandas Apply:   0%|          | 0/201 [00:00<?, ?it/s]"
      ]
     },
     "metadata": {},
     "output_type": "display_data"
    }
   ],
   "source": [
    "import pandas as pd\n",
    "import swifter\n",
    "\n",
    "\n",
    "df = pd.read_csv('sample_data/clf.dev.txt', delimiter=r'\\s*\\|\\|\\|\\s*', engine='python', header=None, names=['text', 'label'])\n",
    "df.head(10)\n",
    "\n",
    "df_fr=df.copy()\n",
    "df_fr['text'] = df_fr['text'].swifter.apply(lambda x: translate_text(x, 'fr'))\n",
    "df_fr['ln'] = 'eng_fr'\n",
    "\n",
    "df_fr.head(10)\n",
    "\n",
    "\n",
    "output_file_path = 'translate_dataset/clf.dev.french.txt'\n",
    "\n",
    "with open(output_file_path, 'w', encoding='utf-8') as file:\n",
    "    for index, row in df_fr.iterrows():\n",
    "        line = f\"{row['text']} ||| {row['label']}\\n\"\n",
    "        file.write(line)"
   ]
  },
  {
   "cell_type": "code",
   "execution_count": 3,
   "id": "31da91d7-66ab-4a8e-8600-6e5a2aff2f05",
   "metadata": {},
   "outputs": [
    {
     "data": {
      "application/vnd.jupyter.widget-view+json": {
       "model_id": "8435fae0fad34bd0b3304e9a985661fc",
       "version_major": 2,
       "version_minor": 0
      },
      "text/plain": [
       "Pandas Apply:   0%|          | 0/201 [00:00<?, ?it/s]"
      ]
     },
     "metadata": {},
     "output_type": "display_data"
    }
   ],
   "source": [
    "import pandas as pd\n",
    "import swifter\n",
    "\n",
    "\n",
    "df = pd.read_csv('sample_data/clf.test.txt', delimiter=r'\\s*\\|\\|\\|\\s*', engine='python', header=None, names=['text', 'label'])\n",
    "df.head(10)\n",
    "\n",
    "df_fr=df.copy()\n",
    "df_fr['text'] = df_fr['text'].swifter.apply(lambda x: translate_text(x, 'fr'))\n",
    "df_fr['ln'] = 'eng_fr'\n",
    "df_fr.head(10)\n",
    "\n",
    "output_file_path = 'translate_dataset/clf.test.french.txt'\n",
    "\n",
    "with open(output_file_path, 'w', encoding='utf-8') as file:\n",
    "    for index, row in df_fr.iterrows():\n",
    "        line = f\"{row['text']} ||| {row['label']}\\n\"\n",
    "        file.write(line)"
   ]
  },
  {
   "cell_type": "code",
   "execution_count": 1,
   "id": "37b33e0c-79bd-4cb5-8599-c19d8e84e29f",
   "metadata": {},
   "outputs": [
    {
     "name": "stdout",
     "output_type": "stream",
     "text": [
      "MODEL: train\n",
      "++++++++++++++++++++++++++++++++++++++++++++++++++++++++++++++++++++++++++++++++++++++++++++++++++++\n",
      "Start Sentence Classification task...\n",
      "++++++++++++++++++++++++++++++++++++++++++++++++++++++++++++++++++++++++++++++++++++++++++++++++++++\n",
      "DATA SUMMARY START:\n",
      " I/O:\n",
      "     Train  file directory: translate_dataset/clf.train.french.txt\n",
      "     Dev    file directory: translate_dataset/clf.dev.french.txt\n",
      "     Test   file directory: translate_dataset/clf.test.french.txt\n",
      "     Raw    file directory: None\n",
      "     Dset   file directory: sample_data/bert_base_sample.dset\n",
      "     Model  file directory: translate_dataset/\n",
      "     Loadmodel   directory: None\n",
      "     Decode file directory: None\n",
      "++++++++++++++++++++++++++++++++++++++++\n",
      "Data and Settings:\n",
      "     Tag          scheme: Not sequence labeling task\n",
      "     Split         token:  ||| \n",
      "     MAX SENTENCE LENGTH: 512\n",
      "     Number   normalized: False\n",
      "     Word         cutoff: 0\n",
      "     Train instance number: 4001\n",
      "     Dev   instance number: 201\n",
      "     Test  instance number: 201\n",
      "     Raw   instance number: 0\n",
      "     Word  alphabet size: 15740\n",
      "     Char  alphabet size: 110\n",
      "     Label alphabet size: 6\n",
      "     Label alphabet content: {'instance2index': {'4': 1, '1': 2, '2': 3, '3': 4, '0': 5}, 'instances': ['4', '1', '2', '3', '0']}\n",
      "     FEATURE num: 0\n",
      " ++++++++++++++++++++++++++++++++++++++++\n",
      " Model Network:\n",
      "     Model low level transformer: None; Finetune: False\n",
      "     Model high level transformer: bert-base-multilingual-uncased; Finetune: True\n",
      "     Words hidden 2 sent: Attention\n",
      "     Classification_Head: False; Classification_Head Activation: tahn\n",
      "     Classifier         dropout: 0.1\n",
      " ++++++++++++++++++++++++++++++++++++++++\n",
      " Training:\n",
      "     Optimizer: AdamW\n",
      "     Scheduler: get_cosine_schedule_with_warmup\n",
      "     warmup_step_rate: 0.050000\n",
      "     Iteration: 10\n",
      "     BatchSize: 16\n",
      "     Average  batch   loss: False\n",
      " ++++++++++++++++++++++++++++++++++++++++\n",
      " Hyperparameters:\n",
      "     Hyper              lr: 3e-05\n",
      "     Hyper        lr_decay: 0\n",
      "     Hyper         HP_clip: None\n",
      "     Hyper        momentum: 0\n",
      "     Hyper              l2: 1e-08\n",
      "     Hyper      hidden_dim: 768\n",
      "     Hyper         dropout: 0.3\n",
      "     Hyper             GPU: True\n",
      "     Hyper          device: cuda:0\n",
      "DATA SUMMARY END.\n",
      "++++++++++++++++++++++++++++++++++++++++++++++++++++++++++++++++++++++++++++++++++++++++++++++++++++\n"
     ]
    },
    {
     "name": "stderr",
     "output_type": "stream",
     "text": [
      "Training model...\n"
     ]
    },
    {
     "name": "stdout",
     "output_type": "stream",
     "text": [
      "build sentence classification network...\n",
      "use_char:  False\n",
      "word feature extractor:  LSTM\n",
      "build word representation...\n",
      "Loading transformer... model: bert-base-multilingual-uncased\n",
      " ++++++++++++++++++++++++++++++++++++++++\n",
      "BertConfig {\n",
      "  \"_name_or_path\": \"bert-base-multilingual-uncased\",\n",
      "  \"architectures\": [\n",
      "    \"BertForMaskedLM\"\n",
      "  ],\n",
      "  \"attention_probs_dropout_prob\": 0.1,\n",
      "  \"classifier_dropout\": null,\n",
      "  \"directionality\": \"bidi\",\n",
      "  \"hidden_act\": \"gelu\",\n",
      "  \"hidden_dropout_prob\": 0.1,\n",
      "  \"hidden_size\": 768,\n",
      "  \"initializer_range\": 0.02,\n",
      "  \"intermediate_size\": 3072,\n",
      "  \"layer_norm_eps\": 1e-12,\n",
      "  \"max_position_embeddings\": 512,\n",
      "  \"model_type\": \"bert\",\n",
      "  \"num_attention_heads\": 12,\n",
      "  \"num_hidden_layers\": 12,\n",
      "  \"pad_token_id\": 0,\n",
      "  \"pooler_fc_size\": 768,\n",
      "  \"pooler_num_attention_heads\": 12,\n",
      "  \"pooler_num_fc_layers\": 3,\n",
      "  \"pooler_size_per_head\": 128,\n",
      "  \"pooler_type\": \"first_token_transform\",\n",
      "  \"position_embedding_type\": \"absolute\",\n",
      "  \"transformers_version\": \"4.39.2\",\n",
      "  \"type_vocab_size\": 2,\n",
      "  \"use_cache\": true,\n",
      "  \"vocab_size\": 105879\n",
      "}\n",
      "\n",
      " ++++++++++++++++++++++++++++++++++++++++\n",
      "Epoch: 0/10\n"
     ]
    },
    {
     "name": "stderr",
     "output_type": "stream",
     "text": [
      "We strongly recommend passing in an `attention_mask` since your input_ids may be padded. See https://huggingface.co/docs/transformers/troubleshooting#incorrect-output-when-padding-tokens-arent-masked.\n",
      "     Instance: 2000; Time: 25.63s; loss: 195.4327;\n",
      "INFO:test:     Instance: 2000; Time: 25.63s; loss: 195.4327;\n",
      "     Instance: 4000; Time: 24.01s; loss: 179.1826;\n",
      "INFO:test:     Instance: 4000; Time: 24.01s; loss: 179.1826;\n",
      "100%|██████████| 13/13 [00:00<00:00, 13.10it/s]\n",
      "Dev: time: 1.02s speed: 202.03st/s; acc: 0.3781; f: 0.3161;\n",
      "INFO:test:Dev: time: 1.02s speed: 202.03st/s; acc: 0.3781; f: 0.3161;\n",
      "100%|██████████| 13/13 [00:01<00:00, 12.89it/s]\n",
      "Save current best acc model in file:translate_dataset/acc0.5174_p0.6251_r0.4597_f0.4792.pth\n",
      "INFO:test:Save current best acc model in file:translate_dataset/acc0.5174_p0.6251_r0.4597_f0.4792.pth\n",
      "Save current best f model in file:translate_dataset/acc0.5174_p0.6251_r0.4597_f0.4792.pth\n",
      "INFO:test:Save current best f model in file:translate_dataset/acc0.5174_p0.6251_r0.4597_f0.4792.pth\n",
      "Test: time: 1.02s, speed: 199.03st/s; acc: 0.5174, p: 0.6251, r: 0.4597, f: 0.4792\n",
      "INFO:test:Test: time: 1.02s, speed: 199.03st/s; acc: 0.5174, p: 0.6251, r: 0.4597, f: 0.4792\n"
     ]
    },
    {
     "name": "stdout",
     "output_type": "stream",
     "text": [
      "Epoch: 1/10\n"
     ]
    },
    {
     "name": "stderr",
     "output_type": "stream",
     "text": [
      "     Instance: 2000; Time: 23.85s; loss: 157.2364;\n",
      "INFO:test:     Instance: 2000; Time: 23.85s; loss: 157.2364;\n",
      "     Instance: 4000; Time: 23.68s; loss: 148.8940;\n",
      "INFO:test:     Instance: 4000; Time: 23.68s; loss: 148.8940;\n",
      "100%|██████████| 13/13 [00:00<00:00, 16.76it/s]\n",
      "Dev: time: 0.78s speed: 258.62st/s; acc: 0.3930; f: 0.3875;\n",
      "INFO:test:Dev: time: 0.78s speed: 258.62st/s; acc: 0.3930; f: 0.3875;\n",
      "100%|██████████| 13/13 [00:00<00:00, 16.38it/s]\n",
      "Save current best acc model in file:translate_dataset/acc0.6070_p0.6734_r0.6198_f0.5890.pth\n",
      "INFO:test:Save current best acc model in file:translate_dataset/acc0.6070_p0.6734_r0.6198_f0.5890.pth\n",
      "Save current best f model in file:translate_dataset/acc0.6070_p0.6734_r0.6198_f0.5890.pth\n",
      "INFO:test:Save current best f model in file:translate_dataset/acc0.6070_p0.6734_r0.6198_f0.5890.pth\n",
      "Test: time: 0.80s, speed: 252.70st/s; acc: 0.6070, p: 0.6734, r: 0.6198, f: 0.5890\n",
      "INFO:test:Test: time: 0.80s, speed: 252.70st/s; acc: 0.6070, p: 0.6734, r: 0.6198, f: 0.5890\n"
     ]
    },
    {
     "name": "stdout",
     "output_type": "stream",
     "text": [
      "Epoch: 2/10\n"
     ]
    },
    {
     "name": "stderr",
     "output_type": "stream",
     "text": [
      "     Instance: 2000; Time: 23.40s; loss: 118.4928;\n",
      "INFO:test:     Instance: 2000; Time: 23.40s; loss: 118.4928;\n",
      "     Instance: 4000; Time: 23.78s; loss: 124.4420;\n",
      "INFO:test:     Instance: 4000; Time: 23.78s; loss: 124.4420;\n",
      "100%|██████████| 13/13 [00:00<00:00, 16.78it/s]\n",
      "Dev: time: 0.78s speed: 258.80st/s; acc: 0.4378; f: 0.4231;\n",
      "INFO:test:Dev: time: 0.78s speed: 258.80st/s; acc: 0.4378; f: 0.4231;\n",
      "100%|██████████| 13/13 [00:00<00:00, 16.47it/s]\n",
      "Save current best acc model in file:translate_dataset/acc0.7811_p0.7848_r0.7903_f0.7821.pth\n",
      "INFO:test:Save current best acc model in file:translate_dataset/acc0.7811_p0.7848_r0.7903_f0.7821.pth\n",
      "Save current best f model in file:translate_dataset/acc0.7811_p0.7848_r0.7903_f0.7821.pth\n",
      "INFO:test:Save current best f model in file:translate_dataset/acc0.7811_p0.7848_r0.7903_f0.7821.pth\n",
      "Test: time: 0.80s, speed: 254.21st/s; acc: 0.7811, p: 0.7848, r: 0.7903, f: 0.7821\n",
      "INFO:test:Test: time: 0.80s, speed: 254.21st/s; acc: 0.7811, p: 0.7848, r: 0.7903, f: 0.7821\n"
     ]
    },
    {
     "name": "stdout",
     "output_type": "stream",
     "text": [
      "Epoch: 3/10\n"
     ]
    },
    {
     "name": "stderr",
     "output_type": "stream",
     "text": [
      "     Instance: 2000; Time: 23.32s; loss: 87.3005;\n",
      "INFO:test:     Instance: 2000; Time: 23.32s; loss: 87.3005;\n",
      "     Instance: 4000; Time: 23.80s; loss: 90.9262;\n",
      "INFO:test:     Instance: 4000; Time: 23.80s; loss: 90.9262;\n",
      "100%|██████████| 13/13 [00:00<00:00, 16.81it/s]\n",
      "Dev: time: 0.78s speed: 259.39st/s; acc: 0.4378; f: 0.4404;\n",
      "INFO:test:Dev: time: 0.78s speed: 259.39st/s; acc: 0.4378; f: 0.4404;\n",
      "100%|██████████| 13/13 [00:00<00:00, 16.47it/s]\n",
      "Save current best f model in file:translate_dataset/acc0.9154_p0.9203_r0.9199_f0.9199.pth\n",
      "INFO:test:Save current best f model in file:translate_dataset/acc0.9154_p0.9203_r0.9199_f0.9199.pth\n",
      "Test: time: 0.80s, speed: 254.31st/s; acc: 0.9154, p: 0.9203, r: 0.9199, f: 0.9199\n",
      "INFO:test:Test: time: 0.80s, speed: 254.31st/s; acc: 0.9154, p: 0.9203, r: 0.9199, f: 0.9199\n"
     ]
    },
    {
     "name": "stdout",
     "output_type": "stream",
     "text": [
      "Epoch: 4/10\n"
     ]
    },
    {
     "name": "stderr",
     "output_type": "stream",
     "text": [
      "     Instance: 2000; Time: 23.36s; loss: 61.5932;\n",
      "INFO:test:     Instance: 2000; Time: 23.36s; loss: 61.5932;\n",
      "     Instance: 4000; Time: 23.80s; loss: 61.8212;\n",
      "INFO:test:     Instance: 4000; Time: 23.80s; loss: 61.8212;\n",
      "100%|██████████| 13/13 [00:00<00:00, 16.81it/s]\n",
      "Dev: time: 0.78s speed: 259.41st/s; acc: 0.4378; f: 0.4404;\n",
      "INFO:test:Dev: time: 0.78s speed: 259.41st/s; acc: 0.4378; f: 0.4404;\n",
      "100%|██████████| 13/13 [00:00<00:00, 16.50it/s]\n",
      "Test: time: 0.79s, speed: 254.56st/s; acc: 0.9303, p: 0.9312, r: 0.9424, f: 0.9336\n",
      "INFO:test:Test: time: 0.79s, speed: 254.56st/s; acc: 0.9303, p: 0.9312, r: 0.9424, f: 0.9336\n"
     ]
    },
    {
     "name": "stdout",
     "output_type": "stream",
     "text": [
      "Epoch: 5/10\n"
     ]
    },
    {
     "name": "stderr",
     "output_type": "stream",
     "text": [
      "     Instance: 2000; Time: 23.38s; loss: 35.9758;\n",
      "INFO:test:     Instance: 2000; Time: 23.38s; loss: 35.9758;\n",
      "     Instance: 4000; Time: 23.51s; loss: 38.1344;\n",
      "INFO:test:     Instance: 4000; Time: 23.51s; loss: 38.1344;\n",
      "100%|██████████| 13/13 [00:00<00:00, 16.82it/s]\n",
      "Dev: time: 0.78s speed: 259.59st/s; acc: 0.4080; f: 0.4039;\n",
      "INFO:test:Dev: time: 0.78s speed: 259.59st/s; acc: 0.4080; f: 0.4039;\n",
      "100%|██████████| 13/13 [00:00<00:00, 16.35it/s]\n",
      "Test: time: 0.80s, speed: 252.25st/s; acc: 0.9403, p: 0.9537, r: 0.9389, f: 0.9440\n",
      "INFO:test:Test: time: 0.80s, speed: 252.25st/s; acc: 0.9403, p: 0.9537, r: 0.9389, f: 0.9440\n"
     ]
    },
    {
     "name": "stdout",
     "output_type": "stream",
     "text": [
      "Epoch: 6/10\n"
     ]
    },
    {
     "name": "stderr",
     "output_type": "stream",
     "text": [
      "     Instance: 2000; Time: 23.28s; loss: 20.8010;\n",
      "INFO:test:     Instance: 2000; Time: 23.28s; loss: 20.8010;\n",
      "     Instance: 4000; Time: 23.82s; loss: 26.2399;\n",
      "INFO:test:     Instance: 4000; Time: 23.82s; loss: 26.2399;\n",
      "100%|██████████| 13/13 [00:00<00:00, 16.81it/s]\n",
      "Dev: time: 0.78s speed: 259.31st/s; acc: 0.4179; f: 0.4213;\n",
      "INFO:test:Dev: time: 0.78s speed: 259.31st/s; acc: 0.4179; f: 0.4213;\n",
      "100%|██████████| 13/13 [00:00<00:00, 16.48it/s]\n",
      "Test: time: 0.80s, speed: 254.34st/s; acc: 0.9701, p: 0.9562, r: 0.9753, f: 0.9643\n",
      "INFO:test:Test: time: 0.80s, speed: 254.34st/s; acc: 0.9701, p: 0.9562, r: 0.9753, f: 0.9643\n"
     ]
    },
    {
     "name": "stdout",
     "output_type": "stream",
     "text": [
      "Epoch: 7/10\n"
     ]
    },
    {
     "name": "stderr",
     "output_type": "stream",
     "text": [
      "     Instance: 2000; Time: 23.28s; loss: 20.1418;\n",
      "INFO:test:     Instance: 2000; Time: 23.28s; loss: 20.1418;\n",
      "     Instance: 4000; Time: 23.41s; loss: 22.0333;\n",
      "INFO:test:     Instance: 4000; Time: 23.41s; loss: 22.0333;\n",
      "100%|██████████| 13/13 [00:00<00:00, 16.81it/s]\n",
      "Dev: time: 0.78s speed: 259.39st/s; acc: 0.4876; f: 0.4712;\n",
      "INFO:test:Dev: time: 0.78s speed: 259.39st/s; acc: 0.4876; f: 0.4712;\n",
      "100%|██████████| 13/13 [00:00<00:00, 16.47it/s]\n",
      "Save current best acc model in file:translate_dataset/acc0.9652_p0.9606_r0.9750_f0.9665.pth\n",
      "INFO:test:Save current best acc model in file:translate_dataset/acc0.9652_p0.9606_r0.9750_f0.9665.pth\n",
      "Save current best f model in file:translate_dataset/acc0.9652_p0.9606_r0.9750_f0.9665.pth\n",
      "INFO:test:Save current best f model in file:translate_dataset/acc0.9652_p0.9606_r0.9750_f0.9665.pth\n",
      "Test: time: 0.80s, speed: 254.17st/s; acc: 0.9652, p: 0.9606, r: 0.9750, f: 0.9665\n",
      "INFO:test:Test: time: 0.80s, speed: 254.17st/s; acc: 0.9652, p: 0.9606, r: 0.9750, f: 0.9665\n"
     ]
    },
    {
     "name": "stdout",
     "output_type": "stream",
     "text": [
      "Epoch: 8/10\n"
     ]
    },
    {
     "name": "stderr",
     "output_type": "stream",
     "text": [
      "     Instance: 2000; Time: 23.31s; loss: 20.5492;\n",
      "INFO:test:     Instance: 2000; Time: 23.31s; loss: 20.5492;\n",
      "     Instance: 4000; Time: 23.69s; loss: 15.2521;\n",
      "INFO:test:     Instance: 4000; Time: 23.69s; loss: 15.2521;\n",
      "100%|██████████| 13/13 [00:00<00:00, 16.82it/s]\n",
      "Dev: time: 0.78s speed: 259.53st/s; acc: 0.4776; f: 0.4771;\n",
      "INFO:test:Dev: time: 0.78s speed: 259.53st/s; acc: 0.4776; f: 0.4771;\n",
      "100%|██████████| 13/13 [00:00<00:00, 16.49it/s]\n",
      "Save current best f model in file:translate_dataset/acc0.9950_p0.9895_r0.9961_f0.9926.pth\n",
      "INFO:test:Save current best f model in file:translate_dataset/acc0.9950_p0.9895_r0.9961_f0.9926.pth\n",
      "Test: time: 0.79s, speed: 254.48st/s; acc: 0.9950, p: 0.9895, r: 0.9961, f: 0.9926\n",
      "INFO:test:Test: time: 0.79s, speed: 254.48st/s; acc: 0.9950, p: 0.9895, r: 0.9961, f: 0.9926\n"
     ]
    },
    {
     "name": "stdout",
     "output_type": "stream",
     "text": [
      "Epoch: 9/10\n"
     ]
    },
    {
     "name": "stderr",
     "output_type": "stream",
     "text": [
      "     Instance: 2000; Time: 23.37s; loss: 10.6915;\n",
      "INFO:test:     Instance: 2000; Time: 23.37s; loss: 10.6915;\n",
      "     Instance: 4000; Time: 23.85s; loss: 12.2970;\n",
      "INFO:test:     Instance: 4000; Time: 23.85s; loss: 12.2970;\n",
      "100%|██████████| 13/13 [00:00<00:00, 16.73it/s]\n",
      "Dev: time: 0.78s speed: 258.15st/s; acc: 0.4030; f: 0.3861;\n",
      "INFO:test:Dev: time: 0.78s speed: 258.15st/s; acc: 0.4030; f: 0.3861;\n",
      "100%|██████████| 13/13 [00:00<00:00, 16.45it/s]\n",
      "Test: time: 0.80s, speed: 253.90st/s; acc: 0.9950, p: 0.9895, r: 0.9961, f: 0.9926\n",
      "INFO:test:Test: time: 0.80s, speed: 253.90st/s; acc: 0.9950, p: 0.9895, r: 0.9961, f: 0.9926\n",
      "Best Test F1 Score: 0.9926143965747926, Best Validation F1 Score: 0.4770920871243452, Best Test F1 Score Epoch: 8 \n",
      "INFO:test:Best Test F1 Score: 0.9926143965747926, Best Validation F1 Score: 0.4770920871243452, Best Test F1 Score Epoch: 8 \n"
     ]
    }
   ],
   "source": [
    "from yato import YATO\n",
    "model = YATO('translate_dataset/clf.french.config')#configuration file\n",
    "model.train()"
   ]
  },
  {
   "cell_type": "code",
   "execution_count": 2,
   "id": "52f77c30-fb6a-4868-a0a7-56f9d48dff9a",
   "metadata": {},
   "outputs": [
    {
     "name": "stdout",
     "output_type": "stream",
     "text": [
      "MODEL: decode\n",
      "nbest: 0\n",
      "Load Model from file: translate_dataset/\n",
      "build sentence classification network...\n",
      "use_char:  False\n",
      "word feature extractor:  LSTM\n",
      "build word representation...\n",
      "Loading transformer... model: bert-base-multilingual-uncased\n",
      " ++++++++++++++++++++++++++++++++++++++++\n",
      "BertConfig {\n",
      "  \"_name_or_path\": \"bert-base-multilingual-uncased\",\n",
      "  \"architectures\": [\n",
      "    \"BertForMaskedLM\"\n",
      "  ],\n",
      "  \"attention_probs_dropout_prob\": 0.1,\n",
      "  \"classifier_dropout\": null,\n",
      "  \"directionality\": \"bidi\",\n",
      "  \"hidden_act\": \"gelu\",\n",
      "  \"hidden_dropout_prob\": 0.1,\n",
      "  \"hidden_size\": 768,\n",
      "  \"initializer_range\": 0.02,\n",
      "  \"intermediate_size\": 3072,\n",
      "  \"layer_norm_eps\": 1e-12,\n",
      "  \"max_position_embeddings\": 512,\n",
      "  \"model_type\": \"bert\",\n",
      "  \"num_attention_heads\": 12,\n",
      "  \"num_hidden_layers\": 12,\n",
      "  \"pad_token_id\": 0,\n",
      "  \"pooler_fc_size\": 768,\n",
      "  \"pooler_num_attention_heads\": 12,\n",
      "  \"pooler_num_fc_layers\": 3,\n",
      "  \"pooler_size_per_head\": 128,\n",
      "  \"pooler_type\": \"first_token_transform\",\n",
      "  \"position_embedding_type\": \"absolute\",\n",
      "  \"transformers_version\": \"4.39.2\",\n",
      "  \"type_vocab_size\": 2,\n",
      "  \"use_cache\": true,\n",
      "  \"vocab_size\": 105879\n",
      "}\n",
      "\n",
      " ++++++++++++++++++++++++++++++++++++++++\n",
      "Decode predict data, nbest: 0 ...\n"
     ]
    },
    {
     "name": "stderr",
     "output_type": "stream",
     "text": [
      "100%|██████████| 13/13 [00:00<00:00, 16.11it/s]"
     ]
    },
    {
     "name": "stdout",
     "output_type": "stream",
     "text": [
      "predict: time:0.81s, speed:248.54st/s; acc: 0.9950\n",
      "len(content_list) 201 201\n",
      "Predict predict result has been written into file. translate_dataset/test.clf.fr.decode\n"
     ]
    },
    {
     "name": "stderr",
     "output_type": "stream",
     "text": [
      "\n"
     ]
    }
   ],
   "source": [
    "# Decoding french model\n",
    "decode_model = YATO('translate_dataset/clf.fr.decode.config')#configuration file\n",
    "result_dict = decode_model.decode()"
   ]
  },
  {
   "cell_type": "code",
   "execution_count": 39,
   "id": "2b6569bf-456e-4225-a8b5-d8705454df78",
   "metadata": {},
   "outputs": [
    {
     "name": "stdout",
     "output_type": "stream",
     "text": [
      "MODEL: decode\n",
      "nbest: 0\n",
      "Load Model from file: /home/mkanche/YATO/sample_data/\n",
      "build sentence classification network...\n",
      "use_char:  False\n",
      "word feature extractor:  LSTM\n",
      "build word representation...\n",
      "Loading transformer... model: bert-base-multilingual-uncased\n",
      " ++++++++++++++++++++++++++++++++++++++++\n",
      "BertConfig {\n",
      "  \"_name_or_path\": \"bert-base-multilingual-uncased\",\n",
      "  \"architectures\": [\n",
      "    \"BertForMaskedLM\"\n",
      "  ],\n",
      "  \"attention_probs_dropout_prob\": 0.1,\n",
      "  \"classifier_dropout\": null,\n",
      "  \"directionality\": \"bidi\",\n",
      "  \"hidden_act\": \"gelu\",\n",
      "  \"hidden_dropout_prob\": 0.1,\n",
      "  \"hidden_size\": 768,\n",
      "  \"initializer_range\": 0.02,\n",
      "  \"intermediate_size\": 3072,\n",
      "  \"layer_norm_eps\": 1e-12,\n",
      "  \"max_position_embeddings\": 512,\n",
      "  \"model_type\": \"bert\",\n",
      "  \"num_attention_heads\": 12,\n",
      "  \"num_hidden_layers\": 12,\n",
      "  \"pad_token_id\": 0,\n",
      "  \"pooler_fc_size\": 768,\n",
      "  \"pooler_num_attention_heads\": 12,\n",
      "  \"pooler_num_fc_layers\": 3,\n",
      "  \"pooler_size_per_head\": 128,\n",
      "  \"pooler_type\": \"first_token_transform\",\n",
      "  \"position_embedding_type\": \"absolute\",\n",
      "  \"transformers_version\": \"4.36.2\",\n",
      "  \"type_vocab_size\": 2,\n",
      "  \"use_cache\": true,\n",
      "  \"vocab_size\": 105879\n",
      "}\n",
      "\n",
      " ++++++++++++++++++++++++++++++++++++++++\n",
      "Decode predict data, nbest: 0 ...\n"
     ]
    },
    {
     "name": "stderr",
     "output_type": "stream",
     "text": [
      "  0%|          | 0/13 [00:00<?, ?it/s]We strongly recommend passing in an `attention_mask` since your input_ids may be padded. See https://huggingface.co/docs/transformers/troubleshooting#incorrect-output-when-padding-tokens-arent-masked.\n",
      "100%|██████████| 13/13 [00:00<00:00, 15.44it/s]"
     ]
    },
    {
     "name": "stdout",
     "output_type": "stream",
     "text": [
      "predict: time:0.85s, speed:238.23st/s; acc: 0.5920\n",
      "len(content_list) 201 201\n",
      "Predict predict result has been written into file. translate_dataset/test.eng.fr.decode\n"
     ]
    },
    {
     "name": "stderr",
     "output_type": "stream",
     "text": [
      "\n"
     ]
    }
   ],
   "source": [
    "decode_model = YATO('translate_dataset/clf.fr.decode.config')#configuration file\n",
    "result_dict = decode_model.decode()"
   ]
  },
  {
   "cell_type": "code",
   "execution_count": 4,
   "id": "f3b0644f-4d11-4b6c-9697-c97a1fb21c69",
   "metadata": {},
   "outputs": [
    {
     "data": {
      "text/html": [
       "<div>\n",
       "<style scoped>\n",
       "    .dataframe tbody tr th:only-of-type {\n",
       "        vertical-align: middle;\n",
       "    }\n",
       "\n",
       "    .dataframe tbody tr th {\n",
       "        vertical-align: top;\n",
       "    }\n",
       "\n",
       "    .dataframe thead th {\n",
       "        text-align: right;\n",
       "    }\n",
       "</style>\n",
       "<table border=\"1\" class=\"dataframe\">\n",
       "  <thead>\n",
       "    <tr style=\"text-align: right;\">\n",
       "      <th></th>\n",
       "      <th>text</th>\n",
       "      <th>label</th>\n",
       "    </tr>\n",
       "  </thead>\n",
       "  <tbody>\n",
       "    <tr>\n",
       "      <th>0</th>\n",
       "      <td>une réimagination émouvante, drôle et finaleme...</td>\n",
       "      <td>4</td>\n",
       "    </tr>\n",
       "    <tr>\n",
       "      <th>1</th>\n",
       "      <td>apparemment réassemblé à partir du plancher de...</td>\n",
       "      <td>1</td>\n",
       "    </tr>\n",
       "    <tr>\n",
       "      <th>2</th>\n",
       "      <td>ils supposent que leur public ne restera pas a...</td>\n",
       "      <td>1</td>\n",
       "    </tr>\n",
       "    <tr>\n",
       "      <th>3</th>\n",
       "      <td>tout le film est rempli de moments de déjà-vu.</td>\n",
       "      <td>2</td>\n",
       "    </tr>\n",
       "    <tr>\n",
       "      <th>4</th>\n",
       "      <td>c'est une réflexion visuellement époustouflant...</td>\n",
       "      <td>3</td>\n",
       "    </tr>\n",
       "    <tr>\n",
       "      <th>5</th>\n",
       "      <td>um non. .</td>\n",
       "      <td>2</td>\n",
       "    </tr>\n",
       "    <tr>\n",
       "      <th>6</th>\n",
       "      <td>Bartleby de Jonathan Parker aurait dû être le ...</td>\n",
       "      <td>3</td>\n",
       "    </tr>\n",
       "    <tr>\n",
       "      <th>7</th>\n",
       "      <td>campanella donne le ton juste -- drôle au mili...</td>\n",
       "      <td>3</td>\n",
       "    </tr>\n",
       "    <tr>\n",
       "      <th>8</th>\n",
       "      <td>un fan film qui, pour les non-initiés, se joue...</td>\n",
       "      <td>1</td>\n",
       "    </tr>\n",
       "    <tr>\n",
       "      <th>9</th>\n",
       "      <td>béart et berling sont superbes tous les deux ,...</td>\n",
       "      <td>4</td>\n",
       "    </tr>\n",
       "  </tbody>\n",
       "</table>\n",
       "</div>"
      ],
      "text/plain": [
       "                                                text  label\n",
       "0  une réimagination émouvante, drôle et finaleme...      4\n",
       "1  apparemment réassemblé à partir du plancher de...      1\n",
       "2  ils supposent que leur public ne restera pas a...      1\n",
       "3     tout le film est rempli de moments de déjà-vu.      2\n",
       "4  c'est une réflexion visuellement époustouflant...      3\n",
       "5                                          um non. .      2\n",
       "6  Bartleby de Jonathan Parker aurait dû être le ...      3\n",
       "7  campanella donne le ton juste -- drôle au mili...      3\n",
       "8  un fan film qui, pour les non-initiés, se joue...      1\n",
       "9  béart et berling sont superbes tous les deux ,...      4"
      ]
     },
     "execution_count": 4,
     "metadata": {},
     "output_type": "execute_result"
    }
   ],
   "source": [
    "import pandas as pd\n",
    "df_tam = pd.read_csv('translate_dataset/test.clf.fr.decode', delimiter=r'\\s*\\|\\|\\|\\s*', engine='python', header=None, names=['text', 'label'])\n",
    "df_tam.head(10)"
   ]
  },
  {
   "cell_type": "code",
   "execution_count": 1,
   "id": "df4cd071-67c5-4258-8d10-9f7c7125ddfb",
   "metadata": {},
   "outputs": [
    {
     "name": "stdout",
     "output_type": "stream",
     "text": [
      "Defaulting to user installation because normal site-packages is not writeable\n",
      "Requirement already satisfied: matplotlib in /home/mkanche/.local/lib/python3.9/site-packages (3.7.4)\n",
      "Requirement already satisfied: numpy in /home/mkanche/.local/lib/python3.9/site-packages (1.24.4)\n",
      "Requirement already satisfied: contourpy>=1.0.1 in /home/mkanche/.local/lib/python3.9/site-packages (from matplotlib) (1.2.1)\n",
      "Requirement already satisfied: cycler>=0.10 in /opt/sw/spack/apps/linux-rhel8-x86_64_v2/gcc-10.3.0/python-3.9.9-jh/lib/python3.9/site-packages (from matplotlib) (0.11.0)\n",
      "Requirement already satisfied: fonttools>=4.22.0 in /opt/sw/spack/apps/linux-rhel8-x86_64_v2/gcc-10.3.0/python-3.9.9-jh/lib/python3.9/site-packages (from matplotlib) (4.31.2)\n",
      "Requirement already satisfied: kiwisolver>=1.0.1 in /opt/sw/spack/apps/linux-rhel8-x86_64_v2/gcc-10.3.0/python-3.9.9-jh/lib/python3.9/site-packages (from matplotlib) (1.4.0)\n",
      "Requirement already satisfied: packaging>=20.0 in /home/mkanche/.local/lib/python3.9/site-packages (from matplotlib) (23.2)\n",
      "Requirement already satisfied: pillow>=6.2.0 in /home/mkanche/.local/lib/python3.9/site-packages (from matplotlib) (10.1.0)\n",
      "Requirement already satisfied: pyparsing>=2.3.1 in /opt/sw/spack/apps/linux-rhel8-x86_64_v2/gcc-10.3.0/python-3.9.9-jh/lib/python3.9/site-packages (from matplotlib) (3.0.7)\n",
      "Requirement already satisfied: python-dateutil>=2.7 in /home/mkanche/.local/lib/python3.9/site-packages (from matplotlib) (2.8.2)\n",
      "Requirement already satisfied: importlib-resources>=3.2.0 in /home/mkanche/.local/lib/python3.9/site-packages (from matplotlib) (6.4.0)\n",
      "Requirement already satisfied: zipp>=3.1.0 in /opt/sw/spack/apps/linux-rhel8-x86_64_v2/gcc-10.3.0/python-3.9.9-jh/lib/python3.9/site-packages (from importlib-resources>=3.2.0->matplotlib) (3.7.0)\n",
      "Requirement already satisfied: six>=1.5 in /opt/sw/spack/apps/linux-rhel8-x86_64_v2/gcc-10.3.0/python-3.9.9-jh/lib/python3.9/site-packages (from python-dateutil>=2.7->matplotlib) (1.16.0)\n",
      "Note: you may need to restart the kernel to use updated packages.\n"
     ]
    }
   ],
   "source": [
    "pip install matplotlib numpy\n"
   ]
  },
  {
   "cell_type": "code",
   "execution_count": 34,
   "id": "3a4fa9f7-2596-4178-8374-4d7926f8b3f7",
   "metadata": {},
   "outputs": [
    {
     "name": "stdout",
     "output_type": "stream",
     "text": [
      "MODEL: Attention Weight\n",
      "build sentence classification network...\n",
      "use_char:  False\n",
      "word feature extractor:  LSTM\n",
      "build word representation...\n",
      "Loading transformer... model: bert-base-multilingual-uncased\n",
      " ++++++++++++++++++++++++++++++++++++++++\n",
      "BertConfig {\n",
      "  \"_name_or_path\": \"bert-base-multilingual-uncased\",\n",
      "  \"architectures\": [\n",
      "    \"BertForMaskedLM\"\n",
      "  ],\n",
      "  \"attention_probs_dropout_prob\": 0.1,\n",
      "  \"classifier_dropout\": null,\n",
      "  \"directionality\": \"bidi\",\n",
      "  \"hidden_act\": \"gelu\",\n",
      "  \"hidden_dropout_prob\": 0.1,\n",
      "  \"hidden_size\": 768,\n",
      "  \"initializer_range\": 0.02,\n",
      "  \"intermediate_size\": 3072,\n",
      "  \"layer_norm_eps\": 1e-12,\n",
      "  \"max_position_embeddings\": 512,\n",
      "  \"model_type\": \"bert\",\n",
      "  \"num_attention_heads\": 12,\n",
      "  \"num_hidden_layers\": 12,\n",
      "  \"pad_token_id\": 0,\n",
      "  \"pooler_fc_size\": 768,\n",
      "  \"pooler_num_attention_heads\": 12,\n",
      "  \"pooler_num_fc_layers\": 3,\n",
      "  \"pooler_size_per_head\": 128,\n",
      "  \"pooler_type\": \"first_token_transform\",\n",
      "  \"position_embedding_type\": \"absolute\",\n",
      "  \"transformers_version\": \"4.36.2\",\n",
      "  \"type_vocab_size\": 2,\n",
      "  \"use_cache\": true,\n",
      "  \"vocab_size\": 105879\n",
      "}\n",
      "\n",
      " ++++++++++++++++++++++++++++++++++++++++\n"
     ]
    },
    {
     "name": "stderr",
     "output_type": "stream",
     "text": [
      "100%|██████████| 1/1 [00:00<00:00, 84.57it/s]\n"
     ]
    },
    {
     "data": {
      "image/png": "[encoded data removed]",
      "text/plain": [
       "<Figure size 1080x144 with 1 Axes>"
      ]
     },
     "metadata": {
      "needs_background": "light"
     },
     "output_type": "display_data"
    }
   ],
   "source": [
    "import matplotlib.pyplot as plt\n",
    "import numpy as np\n",
    "from yato import YATO\n",
    "from utils import text_attention\n",
    "model = YATO('sample_data/decode.config')\n",
    "\n",
    "sample = [\"visually stunning this is a rumination on  memory , love , history and the war between commerce and art . ||| 2\"]\n",
    "# Assuming model.attention is a function that outputs the probabilities and attention weights\n",
    "probs, weights_ls = model.attention(input_text=sample)\n",
    "\n",
    "# Extract the sentence and its corresponding attention weights\n",
    "sentence = \"visually stunning this is a rumination on memory, love, history and the war between commerce and art.\"\n",
    "attention_weights = np.random.rand(len(sentence.split()))  # Random attention weights for example\n",
    "\n",
    "# Normalize the attention weights to use in color mapping\n",
    "normalized_weights = (attention_weights - np.min(attention_weights)) / (np.max(attention_weights) - np.min(attention_weights))\n",
    "\n",
    "# Adjust the colormap to avoid very light colors\n",
    "from matplotlib.colors import LinearSegmentedColormap\n",
    "colors = [\n",
    "    \"#ffdddd\",  # very light red\n",
    "    \"#ffbbbb\",  # lighter red\n",
    "    \"#ff9999\",  # light red\n",
    "    \"#ff7777\",  # less light red\n",
    "    \"#ff5555\",  # medium light red\n",
    "    \"#ff3333\",  # medium red\n",
    "    \"#ff1111\",  # medium dark red\n",
    "    \"#ee0000\",  # dark red\n",
    "    \"#cc0000\",  # darker red\n",
    "    \"#aa0000\",  # very dark red\n",
    "    \"#880000\"   # deepest red\n",
    "]  \n",
    "cmap = LinearSegmentedColormap.from_list(\"custom_red\", colors, N=256)\n",
    "norm = plt.Normalize(vmin=0, vmax=1)\n",
    "\n",
    "# Create a plot to display the highlighted text\n",
    "fig, ax = plt.subplots(figsize=(15, 2))  # Adjust the figure size as needed\n",
    "ax.axis('off')  # Hide the axes\n",
    "\n",
    "words = sentence.split()\n",
    "x_position = 0.0  # Start position for the first word\n",
    "\n",
    "for i, word in enumerate(words):\n",
    "    # Get the color for the word as a single RGBA value\n",
    "    color = cmap(normalized_weights[i])\n",
    "    ax.text(x_position, 0.5, word, color=color, fontsize=24, transform=ax.transAxes, ha='left', va='center')\n",
    "    x_position += 0.02 * len(word)  # Increment position for next word, adjust spacing as necessary\n",
    "\n",
    "plt.show()"
   ]
  },
  {
   "cell_type": "code",
   "execution_count": 36,
   "id": "bc357bad-710b-4ce5-9b1b-f04fcec24aa8",
   "metadata": {},
   "outputs": [
    {
     "name": "stdout",
     "output_type": "stream",
     "text": [
      "MODEL: Attention Weight\n",
      "build sentence classification network...\n",
      "use_char:  False\n",
      "word feature extractor:  LSTM\n",
      "build word representation...\n",
      "Loading transformer... model: bert-base-multilingual-uncased\n",
      " ++++++++++++++++++++++++++++++++++++++++\n",
      "BertConfig {\n",
      "  \"_name_or_path\": \"bert-base-multilingual-uncased\",\n",
      "  \"architectures\": [\n",
      "    \"BertForMaskedLM\"\n",
      "  ],\n",
      "  \"attention_probs_dropout_prob\": 0.1,\n",
      "  \"classifier_dropout\": null,\n",
      "  \"directionality\": \"bidi\",\n",
      "  \"hidden_act\": \"gelu\",\n",
      "  \"hidden_dropout_prob\": 0.1,\n",
      "  \"hidden_size\": 768,\n",
      "  \"initializer_range\": 0.02,\n",
      "  \"intermediate_size\": 3072,\n",
      "  \"layer_norm_eps\": 1e-12,\n",
      "  \"max_position_embeddings\": 512,\n",
      "  \"model_type\": \"bert\",\n",
      "  \"num_attention_heads\": 12,\n",
      "  \"num_hidden_layers\": 12,\n",
      "  \"pad_token_id\": 0,\n",
      "  \"pooler_fc_size\": 768,\n",
      "  \"pooler_num_attention_heads\": 12,\n",
      "  \"pooler_num_fc_layers\": 3,\n",
      "  \"pooler_size_per_head\": 128,\n",
      "  \"pooler_type\": \"first_token_transform\",\n",
      "  \"position_embedding_type\": \"absolute\",\n",
      "  \"transformers_version\": \"4.36.2\",\n",
      "  \"type_vocab_size\": 2,\n",
      "  \"use_cache\": true,\n",
      "  \"vocab_size\": 105879\n",
      "}\n",
      "\n",
      " ++++++++++++++++++++++++++++++++++++++++\n"
     ]
    },
    {
     "name": "stderr",
     "output_type": "stream",
     "text": [
      "100%|██████████| 1/1 [00:00<00:00, 85.58it/s]\n"
     ]
    },
    {
     "data": {
      "image/png": "[encoded data removed]",
      "text/plain": [
       "<Figure size 1080x144 with 1 Axes>"
      ]
     },
     "metadata": {
      "needs_background": "light"
     },
     "output_type": "display_data"
    }
   ],
   "source": [
    "import matplotlib.pyplot as plt\n",
    "import numpy as np\n",
    "from yato import YATO\n",
    "from utils import text_attention\n",
    "model = YATO('sample_data/decode.config')\n",
    "\n",
    "sample = [\"visually stunaning this is a rumianation on  memory , love , histodry and the wcar between commerce and art . ||| 2\"]\n",
    "# Assuming model.attention is a function that outputs the probabilities and attention weights\n",
    "probs, weights_ls = model.attention(input_text=sample)\n",
    "\n",
    "# Extract the sentence and its corresponding attention weights\n",
    "sentence = \"visually stunaning this is a rumianation on  memory , love , histodry and the wcar between commerce and art .\"\n",
    "attention_weights = np.random.rand(len(sentence.split()))  # Random attention weights for example\n",
    "\n",
    "# Normalize the attention weights to use in color mapping\n",
    "normalized_weights = (attention_weights - np.min(attention_weights)) / (np.max(attention_weights) - np.min(attention_weights))\n",
    "\n",
    "# Adjust the colormap to avoid very light colors\n",
    "from matplotlib.colors import LinearSegmentedColormap\n",
    "colors = [\n",
    "    \"#ffdddd\",  # very light red\n",
    "    \"#ffbbbb\",  # lighter red\n",
    "    \"#ff9999\",  # light red\n",
    "    \"#ff7777\",  # less light red\n",
    "    \"#ff5555\",  # medium light red\n",
    "    \"#ff3333\",  # medium red\n",
    "    \"#ff1111\",  # medium dark red\n",
    "    \"#ee0000\",  # dark red\n",
    "    \"#cc0000\",  # darker red\n",
    "    \"#aa0000\",  # very dark red\n",
    "    \"#880000\"   # deepest red\n",
    "]  \n",
    "cmap = LinearSegmentedColormap.from_list(\"custom_red\", colors, N=256)\n",
    "norm = plt.Normalize(vmin=0, vmax=1)\n",
    "\n",
    "# Create a plot to display the highlighted text\n",
    "fig, ax = plt.subplots(figsize=(15, 2))  # Adjust the figure size as needed\n",
    "ax.axis('off')  # Hide the axes\n",
    "\n",
    "words = sentence.split()\n",
    "x_position = 0.0  # Start position for the first word\n",
    "\n",
    "for i, word in enumerate(words):\n",
    "    # Get the color for the word as a single RGBA value\n",
    "    color = cmap(normalized_weights[i])\n",
    "    ax.text(x_position, 0.5, word, color=color, fontsize=24, transform=ax.transAxes, ha='left', va='center')\n",
    "    x_position += 0.02 * len(word)  # Increment position for next word, adjust spacing as necessary\n",
    "\n",
    "plt.show()"
   ]
  },
  {
   "cell_type": "code",
   "execution_count": 37,
   "id": "af00dd57-50f7-423a-a7d4-616fb1c3801c",
   "metadata": {},
   "outputs": [
    {
     "name": "stdout",
     "output_type": "stream",
     "text": [
      "MODEL: Attention Weight\n",
      "build sentence classification network...\n",
      "use_char:  False\n",
      "word feature extractor:  LSTM\n",
      "build word representation...\n",
      "Loading transformer... model: bert-base-multilingual-uncased\n",
      " ++++++++++++++++++++++++++++++++++++++++\n",
      "BertConfig {\n",
      "  \"_name_or_path\": \"bert-base-multilingual-uncased\",\n",
      "  \"architectures\": [\n",
      "    \"BertForMaskedLM\"\n",
      "  ],\n",
      "  \"attention_probs_dropout_prob\": 0.1,\n",
      "  \"classifier_dropout\": null,\n",
      "  \"directionality\": \"bidi\",\n",
      "  \"hidden_act\": \"gelu\",\n",
      "  \"hidden_dropout_prob\": 0.1,\n",
      "  \"hidden_size\": 768,\n",
      "  \"initializer_range\": 0.02,\n",
      "  \"intermediate_size\": 3072,\n",
      "  \"layer_norm_eps\": 1e-12,\n",
      "  \"max_position_embeddings\": 512,\n",
      "  \"model_type\": \"bert\",\n",
      "  \"num_attention_heads\": 12,\n",
      "  \"num_hidden_layers\": 12,\n",
      "  \"pad_token_id\": 0,\n",
      "  \"pooler_fc_size\": 768,\n",
      "  \"pooler_num_attention_heads\": 12,\n",
      "  \"pooler_num_fc_layers\": 3,\n",
      "  \"pooler_size_per_head\": 128,\n",
      "  \"pooler_type\": \"first_token_transform\",\n",
      "  \"position_embedding_type\": \"absolute\",\n",
      "  \"transformers_version\": \"4.36.2\",\n",
      "  \"type_vocab_size\": 2,\n",
      "  \"use_cache\": true,\n",
      "  \"vocab_size\": 105879\n",
      "}\n",
      "\n",
      " ++++++++++++++++++++++++++++++++++++++++\n"
     ]
    },
    {
     "name": "stderr",
     "output_type": "stream",
     "text": [
      "100%|██████████| 1/1 [00:00<00:00, 89.14it/s]\n"
     ]
    },
    {
     "data": {
      "image/png": "[encoded data removed]",
      "text/plain": [
       "<Figure size 1080x144 with 1 Axes>"
      ]
     },
     "metadata": {
      "needs_background": "light"
     },
     "output_type": "display_data"
    }
   ],
   "source": [
    "import matplotlib.pyplot as plt\n",
    "import numpy as np\n",
    "from yato import YATO\n",
    "from utils import text_attention\n",
    "model = YATO('sample_data/decode.config')\n",
    "\n",
    "sample = [\"a stirring , funny and finally transporting re-imagining of beauty and the beast and 1930s horror films ||| 4\"]\n",
    "# Assuming model.attention is a function that outputs the probabilities and attention weights\n",
    "probs, weights_ls = model.attention(input_text=sample)\n",
    "\n",
    "# Extract the sentence and its corresponding attention weights\n",
    "sentence = \"a stirring , funny and finally transporting re-imagining of beauty and the beast and 1930s horror films\"\n",
    "attention_weights = np.random.rand(len(sentence.split()))  # Random attention weights for example\n",
    "\n",
    "# Normalize the attention weights to use in color mapping\n",
    "normalized_weights = (attention_weights - np.min(attention_weights)) / (np.max(attention_weights) - np.min(attention_weights))\n",
    "\n",
    "# Adjust the colormap to avoid very light colors\n",
    "from matplotlib.colors import LinearSegmentedColormap\n",
    "colors = [\n",
    "    \"#ffdddd\",  # very light red\n",
    "    \"#ffbbbb\",  # lighter red\n",
    "    \"#ff9999\",  # light red\n",
    "    \"#ff7777\",  # less light red\n",
    "    \"#ff5555\",  # medium light red\n",
    "    \"#ff3333\",  # medium red\n",
    "    \"#ff1111\",  # medium dark red\n",
    "    \"#ee0000\",  # dark red\n",
    "    \"#cc0000\",  # darker red\n",
    "    \"#aa0000\",  # very dark red\n",
    "    \"#880000\"   # deepest red\n",
    "]  \n",
    "cmap = LinearSegmentedColormap.from_list(\"custom_red\", colors, N=256)\n",
    "norm = plt.Normalize(vmin=0, vmax=1)\n",
    "\n",
    "# Create a plot to display the highlighted text\n",
    "fig, ax = plt.subplots(figsize=(15, 2))  # Adjust the figure size as needed\n",
    "ax.axis('off')  # Hide the axes\n",
    "\n",
    "words = sentence.split()\n",
    "x_position = 0.0  # Start position for the first word\n",
    "\n",
    "for i, word in enumerate(words):\n",
    "    # Get the color for the word as a single RGBA value\n",
    "    color = cmap(normalized_weights[i])\n",
    "    ax.text(x_position, 0.5, word, color=color, fontsize=24, transform=ax.transAxes, ha='left', va='center')\n",
    "    x_position += 0.02 * len(word)  # Increment position for next word, adjust spacing as necessary\n",
    "\n",
    "plt.show()"
   ]
  },
  {
   "cell_type": "code",
   "execution_count": 38,
   "id": "6d3ef4fa-ef93-474a-bcf3-7b7ad07b290b",
   "metadata": {},
   "outputs": [
    {
     "name": "stdout",
     "output_type": "stream",
     "text": [
      "MODEL: Attention Weight\n",
      "build sentence classification network...\n",
      "use_char:  False\n",
      "word feature extractor:  LSTM\n",
      "build word representation...\n",
      "Loading transformer... model: bert-base-multilingual-uncased\n",
      " ++++++++++++++++++++++++++++++++++++++++\n",
      "BertConfig {\n",
      "  \"_name_or_path\": \"bert-base-multilingual-uncased\",\n",
      "  \"architectures\": [\n",
      "    \"BertForMaskedLM\"\n",
      "  ],\n",
      "  \"attention_probs_dropout_prob\": 0.1,\n",
      "  \"classifier_dropout\": null,\n",
      "  \"directionality\": \"bidi\",\n",
      "  \"hidden_act\": \"gelu\",\n",
      "  \"hidden_dropout_prob\": 0.1,\n",
      "  \"hidden_size\": 768,\n",
      "  \"initializer_range\": 0.02,\n",
      "  \"intermediate_size\": 3072,\n",
      "  \"layer_norm_eps\": 1e-12,\n",
      "  \"max_position_embeddings\": 512,\n",
      "  \"model_type\": \"bert\",\n",
      "  \"num_attention_heads\": 12,\n",
      "  \"num_hidden_layers\": 12,\n",
      "  \"pad_token_id\": 0,\n",
      "  \"pooler_fc_size\": 768,\n",
      "  \"pooler_num_attention_heads\": 12,\n",
      "  \"pooler_num_fc_layers\": 3,\n",
      "  \"pooler_size_per_head\": 128,\n",
      "  \"pooler_type\": \"first_token_transform\",\n",
      "  \"position_embedding_type\": \"absolute\",\n",
      "  \"transformers_version\": \"4.36.2\",\n",
      "  \"type_vocab_size\": 2,\n",
      "  \"use_cache\": true,\n",
      "  \"vocab_size\": 105879\n",
      "}\n",
      "\n",
      " ++++++++++++++++++++++++++++++++++++++++\n"
     ]
    },
    {
     "name": "stderr",
     "output_type": "stream",
     "text": [
      "100%|██████████| 1/1 [00:00<00:00, 85.14it/s]\n"
     ]
    },
    {
     "data": {
      "image/png": "[encoded data removed]",
      "text/plain": [
       "<Figure size 1080x144 with 1 Axes>"
      ]
     },
     "metadata": {
      "needs_background": "light"
     },
     "output_type": "display_data"
    }
   ],
   "source": [
    "import matplotlib.pyplot as plt\n",
    "import numpy as np\n",
    "from yato import YATO\n",
    "from utils import text_attention\n",
    "model = YATO('sample_data/decode.config')\n",
    "\n",
    "sample = [\"a stirring , funny and finally trainsporting re-imagining of beaufty and tjhe beakst and 1930s horror films ||| 4\"]\n",
    "# Assuming model.attention is a function that outputs the probabilities and attention weights\n",
    "probs, weights_ls = model.attention(input_text=sample)\n",
    "\n",
    "# Extract the sentence and its corresponding attention weights\n",
    "sentence = \"a stirring , funny and finally trainsporting re-imagining of beaufty and tjhe beakst and 1930s horror films\"\n",
    "attention_weights = np.random.rand(len(sentence.split()))  # Random attention weights for example\n",
    "\n",
    "# Normalize the attention weights to use in color mapping\n",
    "normalized_weights = (attention_weights - np.min(attention_weights)) / (np.max(attention_weights) - np.min(attention_weights))\n",
    "\n",
    "# Adjust the colormap to avoid very light colors\n",
    "from matplotlib.colors import LinearSegmentedColormap\n",
    "colors = [\n",
    "    \"#ffdddd\",  # very light red\n",
    "    \"#ffbbbb\",  # lighter red\n",
    "    \"#ff9999\",  # light red\n",
    "    \"#ff7777\",  # less light red\n",
    "    \"#ff5555\",  # medium light red\n",
    "    \"#ff3333\",  # medium red\n",
    "    \"#ff1111\",  # medium dark red\n",
    "    \"#ee0000\",  # dark red\n",
    "    \"#cc0000\",  # darker red\n",
    "    \"#aa0000\",  # very dark red\n",
    "    \"#880000\"   # deepest red\n",
    "]  \n",
    "cmap = LinearSegmentedColormap.from_list(\"custom_red\", colors, N=256)\n",
    "norm = plt.Normalize(vmin=0, vmax=1)\n",
    "\n",
    "# Create a plot to display the highlighted text\n",
    "fig, ax = plt.subplots(figsize=(15, 2))  # Adjust the figure size as needed\n",
    "ax.axis('off')  # Hide the axes\n",
    "\n",
    "words = sentence.split()\n",
    "x_position = 0.0  # Start position for the first word\n",
    "\n",
    "for i, word in enumerate(words):\n",
    "    # Get the color for the word as a single RGBA value\n",
    "    color = cmap(normalized_weights[i])\n",
    "    ax.text(x_position, 0.5, word, color=color, fontsize=24, transform=ax.transAxes, ha='left', va='center')\n",
    "    x_position += 0.02 * len(word)  # Increment position for next word, adjust spacing as necessary\n",
    "\n",
    "plt.show()"
   ]
  },
  {
   "cell_type": "code",
   "execution_count": null,
   "id": "7dc9c25e-97ae-440a-83c2-faf8d028cbfe",
   "metadata": {},
   "outputs": [],
   "source": []
  }
 ],
 "metadata": {
  "kernelspec": {
   "display_name": "Python 3 (ipykernel)",
   "language": "python",
   "name": "python3"
  },
  "language_info": {
   "codemirror_mode": {
    "name": "ipython",
    "version": 3
   },
   "file_extension": ".py",
   "mimetype": "text/x-python",
   "name": "python",
   "nbconvert_exporter": "python",
   "pygments_lexer": "ipython3",
   "version": "3.9.9"
  }
 },
 "nbformat": 4,
 "nbformat_minor": 5
}
